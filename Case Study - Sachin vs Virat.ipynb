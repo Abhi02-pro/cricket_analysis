{
 "cells": [
  {
   "cell_type": "markdown",
   "id": "271919e6",
   "metadata": {},
   "source": [
    "# Case Study : SACHIN vs VIRAT"
   ]
  },
  {
   "cell_type": "markdown",
   "id": "89d2ea62",
   "metadata": {},
   "source": [
    "### Cricket Career\n",
    "\n",
    "- Sachin Tendulkar : 1989-2012\n",
    "    - First ODI Century : 1994\n",
    "- Virat Kohli : 2008-Present\n",
    "    - First ODI Century : 2009\n",
    "    \n",
    "### Comparision Parameters\n",
    "\n",
    "- Batting Runs per Innings\n",
    "- Strike Rate\n",
    "- Number of 100's\n",
    "- Number of 50's\n",
    "- Team Contribution\n",
    "\n",
    "> Comparing them on the basis of absolute values is not a good criteria.\n",
    "> So we will compare them on the basis of relative values.\n",
    "\n",
    "> Normalised Values : Technique to change the values of numeric columns in the dataset to use a common scale."
   ]
  },
  {
   "cell_type": "code",
   "execution_count": 1,
   "id": "c6d48f29",
   "metadata": {},
   "outputs": [],
   "source": [
    "# importing the required libraries\n",
    "\n",
    "import pandas as pd\n",
    "import numpy as np\n",
    "import matplotlib.pyplot as plt\n",
    "\n",
    "# to display all rows and columns\n",
    "pd.set_option('display.max_rows', None)\n",
    "pd.set_option('display.max_columns', None)\n",
    "pd.set_option('display.expand_frame_repr', False)\n",
    "pd.set_option('max_colwidth', None)"
   ]
  },
  {
   "cell_type": "code",
   "execution_count": 2,
   "id": "b96915e0",
   "metadata": {},
   "outputs": [
    {
     "data": {
      "text/html": [
       "<div>\n",
       "<style scoped>\n",
       "    .dataframe tbody tr th:only-of-type {\n",
       "        vertical-align: middle;\n",
       "    }\n",
       "\n",
       "    .dataframe tbody tr th {\n",
       "        vertical-align: top;\n",
       "    }\n",
       "\n",
       "    .dataframe thead th {\n",
       "        text-align: right;\n",
       "    }\n",
       "</style>\n",
       "<table border=\"1\" class=\"dataframe\">\n",
       "  <thead>\n",
       "    <tr style=\"text-align: right;\">\n",
       "      <th></th>\n",
       "      <th>Innings Player</th>\n",
       "      <th>Innings Runs Scored</th>\n",
       "      <th>Innings Runs Scored Num</th>\n",
       "      <th>Innings Minutes Batted</th>\n",
       "      <th>Innings Batted Flag</th>\n",
       "      <th>Innings Not Out Flag</th>\n",
       "      <th>Innings Balls Faced</th>\n",
       "      <th>Innings Boundary Fours</th>\n",
       "      <th>Innings Boundary Sixes</th>\n",
       "      <th>Innings Batting Strike Rate</th>\n",
       "      <th>Innings Number</th>\n",
       "      <th>Opposition</th>\n",
       "      <th>Ground</th>\n",
       "      <th>Innings Date</th>\n",
       "      <th>Country</th>\n",
       "      <th>50's</th>\n",
       "      <th>100's</th>\n",
       "      <th>Innings Runs Scored Buckets</th>\n",
       "      <th>Innings Overs Bowled</th>\n",
       "      <th>Innings Bowled Flag</th>\n",
       "      <th>Innings Maidens Bowled</th>\n",
       "      <th>Innings Runs Conceded</th>\n",
       "      <th>Innings Wickets Taken</th>\n",
       "      <th>4 Wickets</th>\n",
       "      <th>5 Wickets</th>\n",
       "      <th>10 Wickets</th>\n",
       "      <th>Innings Wickets Taken Buckets</th>\n",
       "      <th>Innings Economy Rate</th>\n",
       "    </tr>\n",
       "  </thead>\n",
       "  <tbody>\n",
       "    <tr>\n",
       "      <th>0</th>\n",
       "      <td>E Lewis</td>\n",
       "      <td>65</td>\n",
       "      <td>65</td>\n",
       "      <td>128</td>\n",
       "      <td>1.0</td>\n",
       "      <td>0.0</td>\n",
       "      <td>80</td>\n",
       "      <td>8</td>\n",
       "      <td>1</td>\n",
       "      <td>81.25</td>\n",
       "      <td>2</td>\n",
       "      <td>v India</td>\n",
       "      <td>Port of Spain</td>\n",
       "      <td>11-08-2019</td>\n",
       "      <td>West Indies</td>\n",
       "      <td>1.0</td>\n",
       "      <td>0.0</td>\n",
       "      <td>50-99</td>\n",
       "      <td>NaN</td>\n",
       "      <td>NaN</td>\n",
       "      <td>NaN</td>\n",
       "      <td>NaN</td>\n",
       "      <td>NaN</td>\n",
       "      <td>NaN</td>\n",
       "      <td>NaN</td>\n",
       "      <td>NaN</td>\n",
       "      <td>NaN</td>\n",
       "      <td>NaN</td>\n",
       "    </tr>\n",
       "    <tr>\n",
       "      <th>1</th>\n",
       "      <td>N Pooran</td>\n",
       "      <td>42</td>\n",
       "      <td>42</td>\n",
       "      <td>69</td>\n",
       "      <td>1.0</td>\n",
       "      <td>0.0</td>\n",
       "      <td>52</td>\n",
       "      <td>4</td>\n",
       "      <td>1</td>\n",
       "      <td>80.76</td>\n",
       "      <td>2</td>\n",
       "      <td>v India</td>\n",
       "      <td>Port of Spain</td>\n",
       "      <td>11-08-2019</td>\n",
       "      <td>West Indies</td>\n",
       "      <td>0.0</td>\n",
       "      <td>0.0</td>\n",
       "      <td>0-49</td>\n",
       "      <td>NaN</td>\n",
       "      <td>NaN</td>\n",
       "      <td>NaN</td>\n",
       "      <td>NaN</td>\n",
       "      <td>NaN</td>\n",
       "      <td>NaN</td>\n",
       "      <td>NaN</td>\n",
       "      <td>NaN</td>\n",
       "      <td>NaN</td>\n",
       "      <td>NaN</td>\n",
       "    </tr>\n",
       "    <tr>\n",
       "      <th>2</th>\n",
       "      <td>SO Hetmyer</td>\n",
       "      <td>18</td>\n",
       "      <td>18</td>\n",
       "      <td>31</td>\n",
       "      <td>1.0</td>\n",
       "      <td>0.0</td>\n",
       "      <td>20</td>\n",
       "      <td>2</td>\n",
       "      <td>0</td>\n",
       "      <td>90</td>\n",
       "      <td>2</td>\n",
       "      <td>v India</td>\n",
       "      <td>Port of Spain</td>\n",
       "      <td>11-08-2019</td>\n",
       "      <td>West Indies</td>\n",
       "      <td>0.0</td>\n",
       "      <td>0.0</td>\n",
       "      <td>0-49</td>\n",
       "      <td>NaN</td>\n",
       "      <td>NaN</td>\n",
       "      <td>NaN</td>\n",
       "      <td>NaN</td>\n",
       "      <td>NaN</td>\n",
       "      <td>NaN</td>\n",
       "      <td>NaN</td>\n",
       "      <td>NaN</td>\n",
       "      <td>NaN</td>\n",
       "      <td>NaN</td>\n",
       "    </tr>\n",
       "    <tr>\n",
       "      <th>3</th>\n",
       "      <td>RL Chase</td>\n",
       "      <td>18</td>\n",
       "      <td>18</td>\n",
       "      <td>34</td>\n",
       "      <td>1.0</td>\n",
       "      <td>0.0</td>\n",
       "      <td>23</td>\n",
       "      <td>0</td>\n",
       "      <td>0</td>\n",
       "      <td>78.26</td>\n",
       "      <td>2</td>\n",
       "      <td>v India</td>\n",
       "      <td>Port of Spain</td>\n",
       "      <td>11-08-2019</td>\n",
       "      <td>West Indies</td>\n",
       "      <td>0.0</td>\n",
       "      <td>0.0</td>\n",
       "      <td>0-49</td>\n",
       "      <td>NaN</td>\n",
       "      <td>NaN</td>\n",
       "      <td>NaN</td>\n",
       "      <td>NaN</td>\n",
       "      <td>NaN</td>\n",
       "      <td>NaN</td>\n",
       "      <td>NaN</td>\n",
       "      <td>NaN</td>\n",
       "      <td>NaN</td>\n",
       "      <td>NaN</td>\n",
       "    </tr>\n",
       "    <tr>\n",
       "      <th>4</th>\n",
       "      <td>SS Cottrell</td>\n",
       "      <td>17</td>\n",
       "      <td>17</td>\n",
       "      <td>23</td>\n",
       "      <td>1.0</td>\n",
       "      <td>0.0</td>\n",
       "      <td>18</td>\n",
       "      <td>2</td>\n",
       "      <td>1</td>\n",
       "      <td>94.44</td>\n",
       "      <td>2</td>\n",
       "      <td>v India</td>\n",
       "      <td>Port of Spain</td>\n",
       "      <td>11-08-2019</td>\n",
       "      <td>West Indies</td>\n",
       "      <td>0.0</td>\n",
       "      <td>0.0</td>\n",
       "      <td>0-49</td>\n",
       "      <td>NaN</td>\n",
       "      <td>NaN</td>\n",
       "      <td>NaN</td>\n",
       "      <td>NaN</td>\n",
       "      <td>NaN</td>\n",
       "      <td>NaN</td>\n",
       "      <td>NaN</td>\n",
       "      <td>NaN</td>\n",
       "      <td>NaN</td>\n",
       "      <td>NaN</td>\n",
       "    </tr>\n",
       "  </tbody>\n",
       "</table>\n",
       "</div>"
      ],
      "text/plain": [
       "  Innings Player Innings Runs Scored Innings Runs Scored Num Innings Minutes Batted  Innings Batted Flag  Innings Not Out Flag Innings Balls Faced Innings Boundary Fours Innings Boundary Sixes Innings Batting Strike Rate Innings Number Opposition         Ground Innings Date      Country  50's  100's Innings Runs Scored Buckets Innings Overs Bowled  Innings Bowled Flag Innings Maidens Bowled Innings Runs Conceded Innings Wickets Taken  4 Wickets  5 Wickets  10 Wickets Innings Wickets Taken Buckets Innings Economy Rate\n",
       "0        E Lewis                  65                      65                    128                  1.0                   0.0                  80                      8                      1                       81.25              2    v India  Port of Spain   11-08-2019  West Indies   1.0    0.0                       50-99                  NaN                  NaN                    NaN                   NaN                   NaN        NaN        NaN         NaN                           NaN                  NaN\n",
       "1       N Pooran                  42                      42                     69                  1.0                   0.0                  52                      4                      1                       80.76              2    v India  Port of Spain   11-08-2019  West Indies   0.0    0.0                        0-49                  NaN                  NaN                    NaN                   NaN                   NaN        NaN        NaN         NaN                           NaN                  NaN\n",
       "2     SO Hetmyer                  18                      18                     31                  1.0                   0.0                  20                      2                      0                          90              2    v India  Port of Spain   11-08-2019  West Indies   0.0    0.0                        0-49                  NaN                  NaN                    NaN                   NaN                   NaN        NaN        NaN         NaN                           NaN                  NaN\n",
       "3       RL Chase                  18                      18                     34                  1.0                   0.0                  23                      0                      0                       78.26              2    v India  Port of Spain   11-08-2019  West Indies   0.0    0.0                        0-49                  NaN                  NaN                    NaN                   NaN                   NaN        NaN        NaN         NaN                           NaN                  NaN\n",
       "4    SS Cottrell                  17                      17                     23                  1.0                   0.0                  18                      2                      1                       94.44              2    v India  Port of Spain   11-08-2019  West Indies   0.0    0.0                        0-49                  NaN                  NaN                    NaN                   NaN                   NaN        NaN        NaN         NaN                           NaN                  NaN"
      ]
     },
     "execution_count": 2,
     "metadata": {},
     "output_type": "execute_result"
    }
   ],
   "source": [
    "# introducing the dataset\n",
    "df = pd.read_csv(\"ODI_data.csv\")\n",
    "df.head()"
   ]
  },
  {
   "cell_type": "code",
   "execution_count": 3,
   "id": "b9593728",
   "metadata": {},
   "outputs": [
    {
     "name": "stdout",
     "output_type": "stream",
     "text": [
      "rows :  171968\n",
      "columns :  28\n"
     ]
    }
   ],
   "source": [
    "# dataset size\n",
    "print(\"rows : \", len(df))\n",
    "print(\"columns : \", len(df.columns))"
   ]
  },
  {
   "cell_type": "markdown",
   "id": "f2e5d21e",
   "metadata": {},
   "source": [
    "###### Cleaning the data"
   ]
  },
  {
   "cell_type": "code",
   "execution_count": 4,
   "id": "452bc414",
   "metadata": {},
   "outputs": [
    {
     "data": {
      "text/plain": [
       "array(['65', '42', '18', '17', '13', '11', '5', '0', '120', '71', '20',\n",
       "       '16', '3', '2', '1', '-', nan, '40', '6', '4', '87', '54', '46',\n",
       "       '30', '12', '69', '39', '14', '10', '9', '8', '7', '82', '52',\n",
       "       '41', '15', '98', '43', '19', '111', '48', '36', '25', '67', '60',\n",
       "       '84', '59', '55', '47', '85', '49', '45', '34', '29', '22', '74',\n",
       "       '28', '77', '50', '32', '23', '35', '122', '100', '95', '103',\n",
       "       '113', '53', '96', '27', '64', '58', '33', '31', '73', '56', '86',\n",
       "       '62', '106', '24', '57', '104', '26', '66', '51', '118', '105',\n",
       "       '101', '21', '79', '44', '102', '88', '80', '72', '97', '68', '89',\n",
       "       '38', '83', '63', '148', '166', '90', '76', '37', '70', '124',\n",
       "       '94', '140', '153', '107', '117', '121', '92', '78', '75', '114',\n",
       "       '115', '130', '128', '151', '110', '138', '135', '109', '61',\n",
       "       '179', '170', '112', '116', '91', '143', '93', '123', '145', '81',\n",
       "       '150', '162', '108', '131', '133', '137', '146', '139', '125',\n",
       "       '129', '157', '152', '144', '99', '127', '210', '147', '126',\n",
       "       '181', '160', '180', '208', '176', '168', '141', '132', '119',\n",
       "       '154', '185', '134', '156', '164', '173', '178', '171', '149',\n",
       "       '237', '159', '161', '215', '264', '136', '169', '209', '174',\n",
       "       '189', '183', '163', '219', '158', '175', '177', '200', '194',\n",
       "       '142', '172', '186', '188', '167'], dtype=object)"
      ]
     },
     "execution_count": 4,
     "metadata": {},
     "output_type": "execute_result"
    }
   ],
   "source": [
    "# first we are interested in runs, so lets check that column\n",
    "df[\"Innings Runs Scored Num\"].unique()"
   ]
  },
  {
   "cell_type": "code",
   "execution_count": 5,
   "id": "92450a5e",
   "metadata": {},
   "outputs": [],
   "source": [
    "# above we can find the there is a '-' and nan which may interrupt our analysis\n",
    "\n",
    "# first lets get rid of '-'\n",
    "df = df[df[\"Innings Runs Scored Num\"] != '-']"
   ]
  },
  {
   "cell_type": "code",
   "execution_count": 6,
   "id": "3d52389a",
   "metadata": {},
   "outputs": [
    {
     "data": {
      "text/plain": [
       "array(['65', '42', '18', '17', '13', '11', '5', '0', '120', '71', '20',\n",
       "       '16', '3', '2', '1', nan, '40', '6', '4', '87', '54', '46', '30',\n",
       "       '12', '69', '39', '14', '10', '9', '8', '7', '82', '52', '41',\n",
       "       '15', '98', '43', '19', '111', '48', '36', '25', '67', '60', '84',\n",
       "       '59', '55', '47', '85', '49', '45', '34', '29', '22', '74', '28',\n",
       "       '77', '50', '32', '23', '35', '122', '100', '95', '103', '113',\n",
       "       '53', '96', '27', '64', '58', '33', '31', '73', '56', '86', '62',\n",
       "       '106', '24', '57', '104', '26', '66', '51', '118', '105', '101',\n",
       "       '21', '79', '44', '102', '88', '80', '72', '97', '68', '89', '38',\n",
       "       '83', '63', '148', '166', '90', '76', '37', '70', '124', '94',\n",
       "       '140', '153', '107', '117', '121', '92', '78', '75', '114', '115',\n",
       "       '130', '128', '151', '110', '138', '135', '109', '61', '179',\n",
       "       '170', '112', '116', '91', '143', '93', '123', '145', '81', '150',\n",
       "       '162', '108', '131', '133', '137', '146', '139', '125', '129',\n",
       "       '157', '152', '144', '99', '127', '210', '147', '126', '181',\n",
       "       '160', '180', '208', '176', '168', '141', '132', '119', '154',\n",
       "       '185', '134', '156', '164', '173', '178', '171', '149', '237',\n",
       "       '159', '161', '215', '264', '136', '169', '209', '174', '189',\n",
       "       '183', '163', '219', '158', '175', '177', '200', '194', '142',\n",
       "       '172', '186', '188', '167'], dtype=object)"
      ]
     },
     "execution_count": 6,
     "metadata": {},
     "output_type": "execute_result"
    }
   ],
   "source": [
    "df[\"Innings Runs Scored Num\"].unique()"
   ]
  },
  {
   "cell_type": "code",
   "execution_count": 7,
   "id": "7f898fc6",
   "metadata": {},
   "outputs": [],
   "source": [
    "# for removing nan\n",
    "df = df.dropna(subset = [\"Innings Runs Scored Num\"])"
   ]
  },
  {
   "cell_type": "code",
   "execution_count": 8,
   "id": "3b2d0b77",
   "metadata": {},
   "outputs": [
    {
     "data": {
      "text/plain": [
       "array(['65', '42', '18', '17', '13', '11', '5', '0', '120', '71', '20',\n",
       "       '16', '3', '2', '1', '40', '6', '4', '87', '54', '46', '30', '12',\n",
       "       '69', '39', '14', '10', '9', '8', '7', '82', '52', '41', '15',\n",
       "       '98', '43', '19', '111', '48', '36', '25', '67', '60', '84', '59',\n",
       "       '55', '47', '85', '49', '45', '34', '29', '22', '74', '28', '77',\n",
       "       '50', '32', '23', '35', '122', '100', '95', '103', '113', '53',\n",
       "       '96', '27', '64', '58', '33', '31', '73', '56', '86', '62', '106',\n",
       "       '24', '57', '104', '26', '66', '51', '118', '105', '101', '21',\n",
       "       '79', '44', '102', '88', '80', '72', '97', '68', '89', '38', '83',\n",
       "       '63', '148', '166', '90', '76', '37', '70', '124', '94', '140',\n",
       "       '153', '107', '117', '121', '92', '78', '75', '114', '115', '130',\n",
       "       '128', '151', '110', '138', '135', '109', '61', '179', '170',\n",
       "       '112', '116', '91', '143', '93', '123', '145', '81', '150', '162',\n",
       "       '108', '131', '133', '137', '146', '139', '125', '129', '157',\n",
       "       '152', '144', '99', '127', '210', '147', '126', '181', '160',\n",
       "       '180', '208', '176', '168', '141', '132', '119', '154', '185',\n",
       "       '134', '156', '164', '173', '178', '171', '149', '237', '159',\n",
       "       '161', '215', '264', '136', '169', '209', '174', '189', '183',\n",
       "       '163', '219', '158', '175', '177', '200', '194', '142', '172',\n",
       "       '186', '188', '167'], dtype=object)"
      ]
     },
     "execution_count": 8,
     "metadata": {},
     "output_type": "execute_result"
    }
   ],
   "source": [
    "df[\"Innings Runs Scored Num\"].unique()"
   ]
  },
  {
   "cell_type": "code",
   "execution_count": 9,
   "id": "a32d07f5",
   "metadata": {},
   "outputs": [],
   "source": [
    "# now we are done with the runs column"
   ]
  },
  {
   "cell_type": "code",
   "execution_count": 10,
   "id": "aec4fb62",
   "metadata": {},
   "outputs": [
    {
     "data": {
      "text/html": [
       "<div>\n",
       "<style scoped>\n",
       "    .dataframe tbody tr th:only-of-type {\n",
       "        vertical-align: middle;\n",
       "    }\n",
       "\n",
       "    .dataframe tbody tr th {\n",
       "        vertical-align: top;\n",
       "    }\n",
       "\n",
       "    .dataframe thead th {\n",
       "        text-align: right;\n",
       "    }\n",
       "</style>\n",
       "<table border=\"1\" class=\"dataframe\">\n",
       "  <thead>\n",
       "    <tr style=\"text-align: right;\">\n",
       "      <th></th>\n",
       "      <th>Innings Player</th>\n",
       "      <th>Innings Runs Scored</th>\n",
       "      <th>Innings Runs Scored Num</th>\n",
       "      <th>Innings Minutes Batted</th>\n",
       "      <th>Innings Batted Flag</th>\n",
       "      <th>Innings Not Out Flag</th>\n",
       "      <th>Innings Balls Faced</th>\n",
       "      <th>Innings Boundary Fours</th>\n",
       "      <th>Innings Boundary Sixes</th>\n",
       "      <th>Innings Batting Strike Rate</th>\n",
       "      <th>Innings Number</th>\n",
       "      <th>Opposition</th>\n",
       "      <th>Ground</th>\n",
       "      <th>Innings Date</th>\n",
       "      <th>Country</th>\n",
       "      <th>50's</th>\n",
       "      <th>100's</th>\n",
       "      <th>Innings Runs Scored Buckets</th>\n",
       "      <th>Innings Overs Bowled</th>\n",
       "      <th>Innings Bowled Flag</th>\n",
       "      <th>Innings Maidens Bowled</th>\n",
       "      <th>Innings Runs Conceded</th>\n",
       "      <th>Innings Wickets Taken</th>\n",
       "      <th>4 Wickets</th>\n",
       "      <th>5 Wickets</th>\n",
       "      <th>10 Wickets</th>\n",
       "      <th>Innings Wickets Taken Buckets</th>\n",
       "      <th>Innings Economy Rate</th>\n",
       "    </tr>\n",
       "  </thead>\n",
       "  <tbody>\n",
       "    <tr>\n",
       "      <th>0</th>\n",
       "      <td>E Lewis</td>\n",
       "      <td>65</td>\n",
       "      <td>65</td>\n",
       "      <td>128</td>\n",
       "      <td>1.0</td>\n",
       "      <td>0.0</td>\n",
       "      <td>80</td>\n",
       "      <td>8</td>\n",
       "      <td>1</td>\n",
       "      <td>81.25</td>\n",
       "      <td>2</td>\n",
       "      <td>v India</td>\n",
       "      <td>Port of Spain</td>\n",
       "      <td>11-08-2019</td>\n",
       "      <td>West Indies</td>\n",
       "      <td>1.0</td>\n",
       "      <td>0.0</td>\n",
       "      <td>50-99</td>\n",
       "      <td>NaN</td>\n",
       "      <td>NaN</td>\n",
       "      <td>NaN</td>\n",
       "      <td>NaN</td>\n",
       "      <td>NaN</td>\n",
       "      <td>NaN</td>\n",
       "      <td>NaN</td>\n",
       "      <td>NaN</td>\n",
       "      <td>NaN</td>\n",
       "      <td>NaN</td>\n",
       "    </tr>\n",
       "    <tr>\n",
       "      <th>1</th>\n",
       "      <td>N Pooran</td>\n",
       "      <td>42</td>\n",
       "      <td>42</td>\n",
       "      <td>69</td>\n",
       "      <td>1.0</td>\n",
       "      <td>0.0</td>\n",
       "      <td>52</td>\n",
       "      <td>4</td>\n",
       "      <td>1</td>\n",
       "      <td>80.76</td>\n",
       "      <td>2</td>\n",
       "      <td>v India</td>\n",
       "      <td>Port of Spain</td>\n",
       "      <td>11-08-2019</td>\n",
       "      <td>West Indies</td>\n",
       "      <td>0.0</td>\n",
       "      <td>0.0</td>\n",
       "      <td>0-49</td>\n",
       "      <td>NaN</td>\n",
       "      <td>NaN</td>\n",
       "      <td>NaN</td>\n",
       "      <td>NaN</td>\n",
       "      <td>NaN</td>\n",
       "      <td>NaN</td>\n",
       "      <td>NaN</td>\n",
       "      <td>NaN</td>\n",
       "      <td>NaN</td>\n",
       "      <td>NaN</td>\n",
       "    </tr>\n",
       "  </tbody>\n",
       "</table>\n",
       "</div>"
      ],
      "text/plain": [
       "  Innings Player Innings Runs Scored Innings Runs Scored Num Innings Minutes Batted  Innings Batted Flag  Innings Not Out Flag Innings Balls Faced Innings Boundary Fours Innings Boundary Sixes Innings Batting Strike Rate Innings Number Opposition         Ground Innings Date      Country  50's  100's Innings Runs Scored Buckets Innings Overs Bowled  Innings Bowled Flag Innings Maidens Bowled Innings Runs Conceded Innings Wickets Taken  4 Wickets  5 Wickets  10 Wickets Innings Wickets Taken Buckets Innings Economy Rate\n",
       "0        E Lewis                  65                      65                    128                  1.0                   0.0                  80                      8                      1                       81.25              2    v India  Port of Spain   11-08-2019  West Indies   1.0    0.0                       50-99                  NaN                  NaN                    NaN                   NaN                   NaN        NaN        NaN         NaN                           NaN                  NaN\n",
       "1       N Pooran                  42                      42                     69                  1.0                   0.0                  52                      4                      1                       80.76              2    v India  Port of Spain   11-08-2019  West Indies   0.0    0.0                        0-49                  NaN                  NaN                    NaN                   NaN                   NaN        NaN        NaN         NaN                           NaN                  NaN"
      ]
     },
     "execution_count": 10,
     "metadata": {},
     "output_type": "execute_result"
    }
   ],
   "source": [
    "# as we are comparing players of two different generations\n",
    "# we are interested in the date-time data\n",
    "\n",
    "df.head(2)"
   ]
  },
  {
   "cell_type": "code",
   "execution_count": 11,
   "id": "bfa1cec3",
   "metadata": {},
   "outputs": [],
   "source": [
    "# converting the Innings Date column into datetime format\n",
    "# this will help us to extract individual components of a date\n",
    "df[\"Innings Date\"] = pd.to_datetime(df[\"Innings Date\"])"
   ]
  },
  {
   "cell_type": "code",
   "execution_count": 12,
   "id": "393e4740",
   "metadata": {},
   "outputs": [],
   "source": [
    "# extracting year and appending the year column into df\n",
    "df[\"Year\"] = df[\"Innings Date\"].dt.year"
   ]
  },
  {
   "cell_type": "code",
   "execution_count": 13,
   "id": "97cd4b8a",
   "metadata": {},
   "outputs": [
    {
     "data": {
      "text/html": [
       "<div>\n",
       "<style scoped>\n",
       "    .dataframe tbody tr th:only-of-type {\n",
       "        vertical-align: middle;\n",
       "    }\n",
       "\n",
       "    .dataframe tbody tr th {\n",
       "        vertical-align: top;\n",
       "    }\n",
       "\n",
       "    .dataframe thead th {\n",
       "        text-align: right;\n",
       "    }\n",
       "</style>\n",
       "<table border=\"1\" class=\"dataframe\">\n",
       "  <thead>\n",
       "    <tr style=\"text-align: right;\">\n",
       "      <th></th>\n",
       "      <th>Innings Player</th>\n",
       "      <th>Innings Runs Scored</th>\n",
       "      <th>Innings Runs Scored Num</th>\n",
       "      <th>Innings Minutes Batted</th>\n",
       "      <th>Innings Batted Flag</th>\n",
       "      <th>Innings Not Out Flag</th>\n",
       "      <th>Innings Balls Faced</th>\n",
       "      <th>Innings Boundary Fours</th>\n",
       "      <th>Innings Boundary Sixes</th>\n",
       "      <th>Innings Batting Strike Rate</th>\n",
       "      <th>Innings Number</th>\n",
       "      <th>Opposition</th>\n",
       "      <th>Ground</th>\n",
       "      <th>Innings Date</th>\n",
       "      <th>Country</th>\n",
       "      <th>50's</th>\n",
       "      <th>100's</th>\n",
       "      <th>Innings Runs Scored Buckets</th>\n",
       "      <th>Innings Overs Bowled</th>\n",
       "      <th>Innings Bowled Flag</th>\n",
       "      <th>Innings Maidens Bowled</th>\n",
       "      <th>Innings Runs Conceded</th>\n",
       "      <th>Innings Wickets Taken</th>\n",
       "      <th>4 Wickets</th>\n",
       "      <th>5 Wickets</th>\n",
       "      <th>10 Wickets</th>\n",
       "      <th>Innings Wickets Taken Buckets</th>\n",
       "      <th>Innings Economy Rate</th>\n",
       "      <th>Year</th>\n",
       "    </tr>\n",
       "  </thead>\n",
       "  <tbody>\n",
       "    <tr>\n",
       "      <th>0</th>\n",
       "      <td>E Lewis</td>\n",
       "      <td>65</td>\n",
       "      <td>65</td>\n",
       "      <td>128</td>\n",
       "      <td>1.0</td>\n",
       "      <td>0.0</td>\n",
       "      <td>80</td>\n",
       "      <td>8</td>\n",
       "      <td>1</td>\n",
       "      <td>81.25</td>\n",
       "      <td>2</td>\n",
       "      <td>v India</td>\n",
       "      <td>Port of Spain</td>\n",
       "      <td>2019-11-08</td>\n",
       "      <td>West Indies</td>\n",
       "      <td>1.0</td>\n",
       "      <td>0.0</td>\n",
       "      <td>50-99</td>\n",
       "      <td>NaN</td>\n",
       "      <td>NaN</td>\n",
       "      <td>NaN</td>\n",
       "      <td>NaN</td>\n",
       "      <td>NaN</td>\n",
       "      <td>NaN</td>\n",
       "      <td>NaN</td>\n",
       "      <td>NaN</td>\n",
       "      <td>NaN</td>\n",
       "      <td>NaN</td>\n",
       "      <td>2019</td>\n",
       "    </tr>\n",
       "    <tr>\n",
       "      <th>1</th>\n",
       "      <td>N Pooran</td>\n",
       "      <td>42</td>\n",
       "      <td>42</td>\n",
       "      <td>69</td>\n",
       "      <td>1.0</td>\n",
       "      <td>0.0</td>\n",
       "      <td>52</td>\n",
       "      <td>4</td>\n",
       "      <td>1</td>\n",
       "      <td>80.76</td>\n",
       "      <td>2</td>\n",
       "      <td>v India</td>\n",
       "      <td>Port of Spain</td>\n",
       "      <td>2019-11-08</td>\n",
       "      <td>West Indies</td>\n",
       "      <td>0.0</td>\n",
       "      <td>0.0</td>\n",
       "      <td>0-49</td>\n",
       "      <td>NaN</td>\n",
       "      <td>NaN</td>\n",
       "      <td>NaN</td>\n",
       "      <td>NaN</td>\n",
       "      <td>NaN</td>\n",
       "      <td>NaN</td>\n",
       "      <td>NaN</td>\n",
       "      <td>NaN</td>\n",
       "      <td>NaN</td>\n",
       "      <td>NaN</td>\n",
       "      <td>2019</td>\n",
       "    </tr>\n",
       "  </tbody>\n",
       "</table>\n",
       "</div>"
      ],
      "text/plain": [
       "  Innings Player Innings Runs Scored Innings Runs Scored Num Innings Minutes Batted  Innings Batted Flag  Innings Not Out Flag Innings Balls Faced Innings Boundary Fours Innings Boundary Sixes Innings Batting Strike Rate Innings Number Opposition         Ground Innings Date      Country  50's  100's Innings Runs Scored Buckets Innings Overs Bowled  Innings Bowled Flag Innings Maidens Bowled Innings Runs Conceded Innings Wickets Taken  4 Wickets  5 Wickets  10 Wickets Innings Wickets Taken Buckets Innings Economy Rate  Year\n",
       "0        E Lewis                  65                      65                    128                  1.0                   0.0                  80                      8                      1                       81.25              2    v India  Port of Spain   2019-11-08  West Indies   1.0    0.0                       50-99                  NaN                  NaN                    NaN                   NaN                   NaN        NaN        NaN         NaN                           NaN                  NaN  2019\n",
       "1       N Pooran                  42                      42                     69                  1.0                   0.0                  52                      4                      1                       80.76              2    v India  Port of Spain   2019-11-08  West Indies   0.0    0.0                        0-49                  NaN                  NaN                    NaN                   NaN                   NaN        NaN        NaN         NaN                           NaN                  NaN  2019"
      ]
     },
     "execution_count": 13,
     "metadata": {},
     "output_type": "execute_result"
    }
   ],
   "source": [
    "# taking a look of the data now, after adding Year column\n",
    "df.head(2)"
   ]
  },
  {
   "cell_type": "code",
   "execution_count": 14,
   "id": "7b55d504",
   "metadata": {},
   "outputs": [
    {
     "data": {
      "text/html": [
       "<div>\n",
       "<style scoped>\n",
       "    .dataframe tbody tr th:only-of-type {\n",
       "        vertical-align: middle;\n",
       "    }\n",
       "\n",
       "    .dataframe tbody tr th {\n",
       "        vertical-align: top;\n",
       "    }\n",
       "\n",
       "    .dataframe thead th {\n",
       "        text-align: right;\n",
       "    }\n",
       "</style>\n",
       "<table border=\"1\" class=\"dataframe\">\n",
       "  <thead>\n",
       "    <tr style=\"text-align: right;\">\n",
       "      <th></th>\n",
       "      <th>Innings Player</th>\n",
       "      <th>Innings Runs Scored</th>\n",
       "      <th>Innings Runs Scored Num</th>\n",
       "      <th>Innings Minutes Batted</th>\n",
       "      <th>Innings Batted Flag</th>\n",
       "      <th>Innings Not Out Flag</th>\n",
       "      <th>Innings Balls Faced</th>\n",
       "      <th>Innings Boundary Fours</th>\n",
       "      <th>Innings Boundary Sixes</th>\n",
       "      <th>Innings Batting Strike Rate</th>\n",
       "      <th>Innings Number</th>\n",
       "      <th>Opposition</th>\n",
       "      <th>Ground</th>\n",
       "      <th>Innings Date</th>\n",
       "      <th>Country</th>\n",
       "      <th>50's</th>\n",
       "      <th>100's</th>\n",
       "      <th>Innings Runs Scored Buckets</th>\n",
       "      <th>Innings Overs Bowled</th>\n",
       "      <th>Innings Bowled Flag</th>\n",
       "      <th>Innings Maidens Bowled</th>\n",
       "      <th>Innings Runs Conceded</th>\n",
       "      <th>Innings Wickets Taken</th>\n",
       "      <th>4 Wickets</th>\n",
       "      <th>5 Wickets</th>\n",
       "      <th>10 Wickets</th>\n",
       "      <th>Innings Wickets Taken Buckets</th>\n",
       "      <th>Innings Economy Rate</th>\n",
       "      <th>Year</th>\n",
       "    </tr>\n",
       "  </thead>\n",
       "  <tbody>\n",
       "    <tr>\n",
       "      <th>171940</th>\n",
       "      <td>IR Redpath</td>\n",
       "      <td>12</td>\n",
       "      <td>12</td>\n",
       "      <td>21</td>\n",
       "      <td>1.0</td>\n",
       "      <td>0.0</td>\n",
       "      <td>14</td>\n",
       "      <td>1</td>\n",
       "      <td>0</td>\n",
       "      <td>85.71</td>\n",
       "      <td>2</td>\n",
       "      <td>v England</td>\n",
       "      <td>Melbourne</td>\n",
       "      <td>1971-05-01</td>\n",
       "      <td>Australia</td>\n",
       "      <td>0.0</td>\n",
       "      <td>0.0</td>\n",
       "      <td>0-49</td>\n",
       "      <td>NaN</td>\n",
       "      <td>NaN</td>\n",
       "      <td>NaN</td>\n",
       "      <td>NaN</td>\n",
       "      <td>NaN</td>\n",
       "      <td>NaN</td>\n",
       "      <td>NaN</td>\n",
       "      <td>NaN</td>\n",
       "      <td>NaN</td>\n",
       "      <td>NaN</td>\n",
       "      <td>1971</td>\n",
       "    </tr>\n",
       "    <tr>\n",
       "      <th>171941</th>\n",
       "      <td>RW Marsh</td>\n",
       "      <td>10*</td>\n",
       "      <td>10</td>\n",
       "      <td>24</td>\n",
       "      <td>1.0</td>\n",
       "      <td>1.0</td>\n",
       "      <td>18</td>\n",
       "      <td>2</td>\n",
       "      <td>0</td>\n",
       "      <td>55.55</td>\n",
       "      <td>2</td>\n",
       "      <td>v England</td>\n",
       "      <td>Melbourne</td>\n",
       "      <td>1971-05-01</td>\n",
       "      <td>Australia</td>\n",
       "      <td>0.0</td>\n",
       "      <td>0.0</td>\n",
       "      <td>0-49</td>\n",
       "      <td>NaN</td>\n",
       "      <td>NaN</td>\n",
       "      <td>NaN</td>\n",
       "      <td>NaN</td>\n",
       "      <td>NaN</td>\n",
       "      <td>NaN</td>\n",
       "      <td>NaN</td>\n",
       "      <td>NaN</td>\n",
       "      <td>NaN</td>\n",
       "      <td>NaN</td>\n",
       "      <td>1971</td>\n",
       "    </tr>\n",
       "  </tbody>\n",
       "</table>\n",
       "</div>"
      ],
      "text/plain": [
       "       Innings Player Innings Runs Scored Innings Runs Scored Num Innings Minutes Batted  Innings Batted Flag  Innings Not Out Flag Innings Balls Faced Innings Boundary Fours Innings Boundary Sixes Innings Batting Strike Rate Innings Number Opposition     Ground Innings Date    Country  50's  100's Innings Runs Scored Buckets Innings Overs Bowled  Innings Bowled Flag Innings Maidens Bowled Innings Runs Conceded Innings Wickets Taken  4 Wickets  5 Wickets  10 Wickets Innings Wickets Taken Buckets Innings Economy Rate  Year\n",
       "171940     IR Redpath                  12                      12                     21                  1.0                   0.0                  14                      1                      0                       85.71              2  v England  Melbourne   1971-05-01  Australia   0.0    0.0                        0-49                  NaN                  NaN                    NaN                   NaN                   NaN        NaN        NaN         NaN                           NaN                  NaN  1971\n",
       "171941       RW Marsh                 10*                      10                     24                  1.0                   1.0                  18                      2                      0                       55.55              2  v England  Melbourne   1971-05-01  Australia   0.0    0.0                        0-49                  NaN                  NaN                    NaN                   NaN                   NaN        NaN        NaN         NaN                           NaN                  NaN  1971"
      ]
     },
     "execution_count": 14,
     "metadata": {},
     "output_type": "execute_result"
    }
   ],
   "source": [
    "df.tail(2)"
   ]
  },
  {
   "cell_type": "code",
   "execution_count": 15,
   "id": "4ca26d1b",
   "metadata": {},
   "outputs": [
    {
     "data": {
      "text/plain": [
       "Innings Player                           object\n",
       "Innings Runs Scored                      object\n",
       "Innings Runs Scored Num                  object\n",
       "Innings Minutes Batted                   object\n",
       "Innings Batted Flag                     float64\n",
       "Innings Not Out Flag                    float64\n",
       "Innings Balls Faced                      object\n",
       "Innings Boundary Fours                   object\n",
       "Innings Boundary Sixes                   object\n",
       "Innings Batting Strike Rate              object\n",
       "Innings Number                           object\n",
       "Opposition                               object\n",
       "Ground                                   object\n",
       "Innings Date                     datetime64[ns]\n",
       "Country                                  object\n",
       "50's                                    float64\n",
       "100's                                   float64\n",
       "Innings Runs Scored Buckets              object\n",
       "Innings Overs Bowled                     object\n",
       "Innings Bowled Flag                     float64\n",
       "Innings Maidens Bowled                   object\n",
       "Innings Runs Conceded                    object\n",
       "Innings Wickets Taken                    object\n",
       "4 Wickets                               float64\n",
       "5 Wickets                               float64\n",
       "10 Wickets                              float64\n",
       "Innings Wickets Taken Buckets            object\n",
       "Innings Economy Rate                     object\n",
       "Year                                      int64\n",
       "dtype: object"
      ]
     },
     "execution_count": 15,
     "metadata": {},
     "output_type": "execute_result"
    }
   ],
   "source": [
    "# checking the datatype of the columns\n",
    "df.dtypes"
   ]
  },
  {
   "cell_type": "code",
   "execution_count": 16,
   "id": "3878de4e",
   "metadata": {},
   "outputs": [],
   "source": [
    "df[\"Innings Runs Scored Num\"] = df[\"Innings Runs Scored Num\"].astype(int)\n",
    "df[\"Innings Balls Faced\"] = df[\"Innings Balls Faced\"].astype(int)\n",
    "df[\"Innings Not Out Flag\"] = df[\"Innings Not Out Flag\"].astype(int)"
   ]
  },
  {
   "cell_type": "code",
   "execution_count": 17,
   "id": "15669d26",
   "metadata": {},
   "outputs": [
    {
     "data": {
      "text/plain": [
       "Innings Player                           object\n",
       "Innings Runs Scored                      object\n",
       "Innings Runs Scored Num                   int32\n",
       "Innings Minutes Batted                   object\n",
       "Innings Batted Flag                     float64\n",
       "Innings Not Out Flag                      int32\n",
       "Innings Balls Faced                       int32\n",
       "Innings Boundary Fours                   object\n",
       "Innings Boundary Sixes                   object\n",
       "Innings Batting Strike Rate              object\n",
       "Innings Number                           object\n",
       "Opposition                               object\n",
       "Ground                                   object\n",
       "Innings Date                     datetime64[ns]\n",
       "Country                                  object\n",
       "50's                                    float64\n",
       "100's                                   float64\n",
       "Innings Runs Scored Buckets              object\n",
       "Innings Overs Bowled                     object\n",
       "Innings Bowled Flag                     float64\n",
       "Innings Maidens Bowled                   object\n",
       "Innings Runs Conceded                    object\n",
       "Innings Wickets Taken                    object\n",
       "4 Wickets                               float64\n",
       "5 Wickets                               float64\n",
       "10 Wickets                              float64\n",
       "Innings Wickets Taken Buckets            object\n",
       "Innings Economy Rate                     object\n",
       "Year                                      int64\n",
       "dtype: object"
      ]
     },
     "execution_count": 17,
     "metadata": {},
     "output_type": "execute_result"
    }
   ],
   "source": [
    "df.dtypes"
   ]
  },
  {
   "cell_type": "code",
   "execution_count": 18,
   "id": "f73adfb8",
   "metadata": {},
   "outputs": [],
   "source": [
    "# we are ready with the data\n",
    "# now lets create a separate data for both the players \n",
    "\n",
    "# we will take a duration of 11 years after they scored their 1st ODI century\n",
    "\n",
    "# Sachin : 1994-2004\n",
    "# Virat : 2009-2019"
   ]
  },
  {
   "cell_type": "code",
   "execution_count": 19,
   "id": "751acf59",
   "metadata": {},
   "outputs": [],
   "source": [
    "# data for sachin\n",
    "sachin_era_df = df[(df.Year >= 1994) & (df.Year <= 2004)]\n",
    "\n",
    "# data for virat\n",
    "virat_era_df = df[(df.Year >= 2009) & (df.Year <= 2019)]"
   ]
  },
  {
   "cell_type": "code",
   "execution_count": 20,
   "id": "39117645",
   "metadata": {},
   "outputs": [
    {
     "data": {
      "text/html": [
       "<div>\n",
       "<style scoped>\n",
       "    .dataframe tbody tr th:only-of-type {\n",
       "        vertical-align: middle;\n",
       "    }\n",
       "\n",
       "    .dataframe tbody tr th {\n",
       "        vertical-align: top;\n",
       "    }\n",
       "\n",
       "    .dataframe thead th {\n",
       "        text-align: right;\n",
       "    }\n",
       "</style>\n",
       "<table border=\"1\" class=\"dataframe\">\n",
       "  <thead>\n",
       "    <tr style=\"text-align: right;\">\n",
       "      <th></th>\n",
       "      <th>Innings Player</th>\n",
       "      <th>Innings Runs Scored</th>\n",
       "      <th>Innings Runs Scored Num</th>\n",
       "      <th>Innings Minutes Batted</th>\n",
       "      <th>Innings Batted Flag</th>\n",
       "      <th>Innings Not Out Flag</th>\n",
       "      <th>Innings Balls Faced</th>\n",
       "      <th>Innings Boundary Fours</th>\n",
       "      <th>Innings Boundary Sixes</th>\n",
       "      <th>Innings Batting Strike Rate</th>\n",
       "      <th>Innings Number</th>\n",
       "      <th>Opposition</th>\n",
       "      <th>Ground</th>\n",
       "      <th>Innings Date</th>\n",
       "      <th>Country</th>\n",
       "      <th>50's</th>\n",
       "      <th>100's</th>\n",
       "      <th>Innings Runs Scored Buckets</th>\n",
       "      <th>Innings Overs Bowled</th>\n",
       "      <th>Innings Bowled Flag</th>\n",
       "      <th>Innings Maidens Bowled</th>\n",
       "      <th>Innings Runs Conceded</th>\n",
       "      <th>Innings Wickets Taken</th>\n",
       "      <th>4 Wickets</th>\n",
       "      <th>5 Wickets</th>\n",
       "      <th>10 Wickets</th>\n",
       "      <th>Innings Wickets Taken Buckets</th>\n",
       "      <th>Innings Economy Rate</th>\n",
       "      <th>Year</th>\n",
       "    </tr>\n",
       "  </thead>\n",
       "  <tbody>\n",
       "    <tr>\n",
       "      <th>77610</th>\n",
       "      <td>V Sehwag</td>\n",
       "      <td>70</td>\n",
       "      <td>70</td>\n",
       "      <td>85</td>\n",
       "      <td>1.0</td>\n",
       "      <td>0</td>\n",
       "      <td>52</td>\n",
       "      <td>9</td>\n",
       "      <td>2</td>\n",
       "      <td>134.61</td>\n",
       "      <td>1</td>\n",
       "      <td>v Bangladesh</td>\n",
       "      <td>Dhaka</td>\n",
       "      <td>2004-12-27</td>\n",
       "      <td>India</td>\n",
       "      <td>1.0</td>\n",
       "      <td>0.0</td>\n",
       "      <td>50-99</td>\n",
       "      <td>NaN</td>\n",
       "      <td>NaN</td>\n",
       "      <td>NaN</td>\n",
       "      <td>NaN</td>\n",
       "      <td>NaN</td>\n",
       "      <td>NaN</td>\n",
       "      <td>NaN</td>\n",
       "      <td>NaN</td>\n",
       "      <td>NaN</td>\n",
       "      <td>NaN</td>\n",
       "      <td>2004</td>\n",
       "    </tr>\n",
       "    <tr>\n",
       "      <th>77611</th>\n",
       "      <td>Yuvraj Singh</td>\n",
       "      <td>69</td>\n",
       "      <td>69</td>\n",
       "      <td>34</td>\n",
       "      <td>1.0</td>\n",
       "      <td>0</td>\n",
       "      <td>32</td>\n",
       "      <td>8</td>\n",
       "      <td>3</td>\n",
       "      <td>215.62</td>\n",
       "      <td>1</td>\n",
       "      <td>v Bangladesh</td>\n",
       "      <td>Dhaka</td>\n",
       "      <td>2004-12-27</td>\n",
       "      <td>India</td>\n",
       "      <td>1.0</td>\n",
       "      <td>0.0</td>\n",
       "      <td>50-99</td>\n",
       "      <td>NaN</td>\n",
       "      <td>NaN</td>\n",
       "      <td>NaN</td>\n",
       "      <td>NaN</td>\n",
       "      <td>NaN</td>\n",
       "      <td>NaN</td>\n",
       "      <td>NaN</td>\n",
       "      <td>NaN</td>\n",
       "      <td>NaN</td>\n",
       "      <td>NaN</td>\n",
       "      <td>2004</td>\n",
       "    </tr>\n",
       "  </tbody>\n",
       "</table>\n",
       "</div>"
      ],
      "text/plain": [
       "      Innings Player Innings Runs Scored  Innings Runs Scored Num Innings Minutes Batted  Innings Batted Flag  Innings Not Out Flag  Innings Balls Faced Innings Boundary Fours Innings Boundary Sixes Innings Batting Strike Rate Innings Number    Opposition Ground Innings Date Country  50's  100's Innings Runs Scored Buckets Innings Overs Bowled  Innings Bowled Flag Innings Maidens Bowled Innings Runs Conceded Innings Wickets Taken  4 Wickets  5 Wickets  10 Wickets Innings Wickets Taken Buckets Innings Economy Rate  Year\n",
       "77610       V Sehwag                  70                       70                     85                  1.0                     0                   52                      9                      2                      134.61              1  v Bangladesh  Dhaka   2004-12-27   India   1.0    0.0                       50-99                  NaN                  NaN                    NaN                   NaN                   NaN        NaN        NaN         NaN                           NaN                  NaN  2004\n",
       "77611   Yuvraj Singh                  69                       69                     34                  1.0                     0                   32                      8                      3                      215.62              1  v Bangladesh  Dhaka   2004-12-27   India   1.0    0.0                       50-99                  NaN                  NaN                    NaN                   NaN                   NaN        NaN        NaN         NaN                           NaN                  NaN  2004"
      ]
     },
     "execution_count": 20,
     "metadata": {},
     "output_type": "execute_result"
    }
   ],
   "source": [
    "# this will return data from the year 1994-2004\n",
    "sachin_era_df.head(2)"
   ]
  },
  {
   "cell_type": "code",
   "execution_count": 21,
   "id": "c7594e0d",
   "metadata": {},
   "outputs": [
    {
     "data": {
      "text/html": [
       "<div>\n",
       "<style scoped>\n",
       "    .dataframe tbody tr th:only-of-type {\n",
       "        vertical-align: middle;\n",
       "    }\n",
       "\n",
       "    .dataframe tbody tr th {\n",
       "        vertical-align: top;\n",
       "    }\n",
       "\n",
       "    .dataframe thead th {\n",
       "        text-align: right;\n",
       "    }\n",
       "</style>\n",
       "<table border=\"1\" class=\"dataframe\">\n",
       "  <thead>\n",
       "    <tr style=\"text-align: right;\">\n",
       "      <th></th>\n",
       "      <th>Innings Player</th>\n",
       "      <th>Innings Runs Scored</th>\n",
       "      <th>Innings Runs Scored Num</th>\n",
       "      <th>Innings Minutes Batted</th>\n",
       "      <th>Innings Batted Flag</th>\n",
       "      <th>Innings Not Out Flag</th>\n",
       "      <th>Innings Balls Faced</th>\n",
       "      <th>Innings Boundary Fours</th>\n",
       "      <th>Innings Boundary Sixes</th>\n",
       "      <th>Innings Batting Strike Rate</th>\n",
       "      <th>Innings Number</th>\n",
       "      <th>Opposition</th>\n",
       "      <th>Ground</th>\n",
       "      <th>Innings Date</th>\n",
       "      <th>Country</th>\n",
       "      <th>50's</th>\n",
       "      <th>100's</th>\n",
       "      <th>Innings Runs Scored Buckets</th>\n",
       "      <th>Innings Overs Bowled</th>\n",
       "      <th>Innings Bowled Flag</th>\n",
       "      <th>Innings Maidens Bowled</th>\n",
       "      <th>Innings Runs Conceded</th>\n",
       "      <th>Innings Wickets Taken</th>\n",
       "      <th>4 Wickets</th>\n",
       "      <th>5 Wickets</th>\n",
       "      <th>10 Wickets</th>\n",
       "      <th>Innings Wickets Taken Buckets</th>\n",
       "      <th>Innings Economy Rate</th>\n",
       "      <th>Year</th>\n",
       "    </tr>\n",
       "  </thead>\n",
       "  <tbody>\n",
       "    <tr>\n",
       "      <th>0</th>\n",
       "      <td>E Lewis</td>\n",
       "      <td>65</td>\n",
       "      <td>65</td>\n",
       "      <td>128</td>\n",
       "      <td>1.0</td>\n",
       "      <td>0</td>\n",
       "      <td>80</td>\n",
       "      <td>8</td>\n",
       "      <td>1</td>\n",
       "      <td>81.25</td>\n",
       "      <td>2</td>\n",
       "      <td>v India</td>\n",
       "      <td>Port of Spain</td>\n",
       "      <td>2019-11-08</td>\n",
       "      <td>West Indies</td>\n",
       "      <td>1.0</td>\n",
       "      <td>0.0</td>\n",
       "      <td>50-99</td>\n",
       "      <td>NaN</td>\n",
       "      <td>NaN</td>\n",
       "      <td>NaN</td>\n",
       "      <td>NaN</td>\n",
       "      <td>NaN</td>\n",
       "      <td>NaN</td>\n",
       "      <td>NaN</td>\n",
       "      <td>NaN</td>\n",
       "      <td>NaN</td>\n",
       "      <td>NaN</td>\n",
       "      <td>2019</td>\n",
       "    </tr>\n",
       "    <tr>\n",
       "      <th>1</th>\n",
       "      <td>N Pooran</td>\n",
       "      <td>42</td>\n",
       "      <td>42</td>\n",
       "      <td>69</td>\n",
       "      <td>1.0</td>\n",
       "      <td>0</td>\n",
       "      <td>52</td>\n",
       "      <td>4</td>\n",
       "      <td>1</td>\n",
       "      <td>80.76</td>\n",
       "      <td>2</td>\n",
       "      <td>v India</td>\n",
       "      <td>Port of Spain</td>\n",
       "      <td>2019-11-08</td>\n",
       "      <td>West Indies</td>\n",
       "      <td>0.0</td>\n",
       "      <td>0.0</td>\n",
       "      <td>0-49</td>\n",
       "      <td>NaN</td>\n",
       "      <td>NaN</td>\n",
       "      <td>NaN</td>\n",
       "      <td>NaN</td>\n",
       "      <td>NaN</td>\n",
       "      <td>NaN</td>\n",
       "      <td>NaN</td>\n",
       "      <td>NaN</td>\n",
       "      <td>NaN</td>\n",
       "      <td>NaN</td>\n",
       "      <td>2019</td>\n",
       "    </tr>\n",
       "  </tbody>\n",
       "</table>\n",
       "</div>"
      ],
      "text/plain": [
       "  Innings Player Innings Runs Scored  Innings Runs Scored Num Innings Minutes Batted  Innings Batted Flag  Innings Not Out Flag  Innings Balls Faced Innings Boundary Fours Innings Boundary Sixes Innings Batting Strike Rate Innings Number Opposition         Ground Innings Date      Country  50's  100's Innings Runs Scored Buckets Innings Overs Bowled  Innings Bowled Flag Innings Maidens Bowled Innings Runs Conceded Innings Wickets Taken  4 Wickets  5 Wickets  10 Wickets Innings Wickets Taken Buckets Innings Economy Rate  Year\n",
       "0        E Lewis                  65                       65                    128                  1.0                     0                   80                      8                      1                       81.25              2    v India  Port of Spain   2019-11-08  West Indies   1.0    0.0                       50-99                  NaN                  NaN                    NaN                   NaN                   NaN        NaN        NaN         NaN                           NaN                  NaN  2019\n",
       "1       N Pooran                  42                       42                     69                  1.0                     0                   52                      4                      1                       80.76              2    v India  Port of Spain   2019-11-08  West Indies   0.0    0.0                        0-49                  NaN                  NaN                    NaN                   NaN                   NaN        NaN        NaN         NaN                           NaN                  NaN  2019"
      ]
     },
     "execution_count": 21,
     "metadata": {},
     "output_type": "execute_result"
    }
   ],
   "source": [
    "# this will return data from the year 2009-2019\n",
    "virat_era_df.head(2)"
   ]
  },
  {
   "cell_type": "code",
   "execution_count": 22,
   "id": "96b0a4e4",
   "metadata": {},
   "outputs": [],
   "source": [
    "# Calculating the absolute values\n",
    "\n",
    "# Batting Runs per Innings = Total runs / Total innings\n",
    "# Strike Rate = Total runs / Total balls\n",
    "# Number of 100's = sum(100's)\n",
    "# Number of 50's = sum(50's)\n",
    "# Team Contribution = Player runs / Team runs"
   ]
  },
  {
   "cell_type": "code",
   "execution_count": 23,
   "id": "31b0603f",
   "metadata": {},
   "outputs": [],
   "source": [
    "# Lets start by extracting individual player data\n",
    "\n",
    "sachin_data = sachin_era_df[sachin_era_df[\"Innings Player\"] == \"SR Tendulkar\"]\n",
    "virat_data = virat_era_df[virat_era_df[\"Innings Player\"] == \"V Kohli\"]"
   ]
  },
  {
   "cell_type": "code",
   "execution_count": 24,
   "id": "369ecc2a",
   "metadata": {},
   "outputs": [
    {
     "data": {
      "text/html": [
       "<div>\n",
       "<style scoped>\n",
       "    .dataframe tbody tr th:only-of-type {\n",
       "        vertical-align: middle;\n",
       "    }\n",
       "\n",
       "    .dataframe tbody tr th {\n",
       "        vertical-align: top;\n",
       "    }\n",
       "\n",
       "    .dataframe thead th {\n",
       "        text-align: right;\n",
       "    }\n",
       "</style>\n",
       "<table border=\"1\" class=\"dataframe\">\n",
       "  <thead>\n",
       "    <tr style=\"text-align: right;\">\n",
       "      <th></th>\n",
       "      <th>Innings Player</th>\n",
       "      <th>Innings Runs Scored</th>\n",
       "      <th>Innings Runs Scored Num</th>\n",
       "      <th>Innings Minutes Batted</th>\n",
       "      <th>Innings Batted Flag</th>\n",
       "      <th>Innings Not Out Flag</th>\n",
       "      <th>Innings Balls Faced</th>\n",
       "      <th>Innings Boundary Fours</th>\n",
       "      <th>Innings Boundary Sixes</th>\n",
       "      <th>Innings Batting Strike Rate</th>\n",
       "      <th>Innings Number</th>\n",
       "      <th>Opposition</th>\n",
       "      <th>Ground</th>\n",
       "      <th>Innings Date</th>\n",
       "      <th>Country</th>\n",
       "      <th>50's</th>\n",
       "      <th>100's</th>\n",
       "      <th>Innings Runs Scored Buckets</th>\n",
       "      <th>Innings Overs Bowled</th>\n",
       "      <th>Innings Bowled Flag</th>\n",
       "      <th>Innings Maidens Bowled</th>\n",
       "      <th>Innings Runs Conceded</th>\n",
       "      <th>Innings Wickets Taken</th>\n",
       "      <th>4 Wickets</th>\n",
       "      <th>5 Wickets</th>\n",
       "      <th>10 Wickets</th>\n",
       "      <th>Innings Wickets Taken Buckets</th>\n",
       "      <th>Innings Economy Rate</th>\n",
       "      <th>Year</th>\n",
       "    </tr>\n",
       "  </thead>\n",
       "  <tbody>\n",
       "    <tr>\n",
       "      <th>77614</th>\n",
       "      <td>SR Tendulkar</td>\n",
       "      <td>47</td>\n",
       "      <td>47</td>\n",
       "      <td>60</td>\n",
       "      <td>1.0</td>\n",
       "      <td>0</td>\n",
       "      <td>42</td>\n",
       "      <td>9</td>\n",
       "      <td>0</td>\n",
       "      <td>111.9</td>\n",
       "      <td>1</td>\n",
       "      <td>v Bangladesh</td>\n",
       "      <td>Dhaka</td>\n",
       "      <td>2004-12-27</td>\n",
       "      <td>India</td>\n",
       "      <td>0.0</td>\n",
       "      <td>0.0</td>\n",
       "      <td>0-49</td>\n",
       "      <td>NaN</td>\n",
       "      <td>NaN</td>\n",
       "      <td>NaN</td>\n",
       "      <td>NaN</td>\n",
       "      <td>NaN</td>\n",
       "      <td>NaN</td>\n",
       "      <td>NaN</td>\n",
       "      <td>NaN</td>\n",
       "      <td>NaN</td>\n",
       "      <td>NaN</td>\n",
       "      <td>2004</td>\n",
       "    </tr>\n",
       "    <tr>\n",
       "      <th>77747</th>\n",
       "      <td>SR Tendulkar</td>\n",
       "      <td>19</td>\n",
       "      <td>19</td>\n",
       "      <td>46</td>\n",
       "      <td>1.0</td>\n",
       "      <td>0</td>\n",
       "      <td>32</td>\n",
       "      <td>3</td>\n",
       "      <td>0</td>\n",
       "      <td>59.37</td>\n",
       "      <td>1</td>\n",
       "      <td>v Bangladesh</td>\n",
       "      <td>Chattogram</td>\n",
       "      <td>2004-12-23</td>\n",
       "      <td>India</td>\n",
       "      <td>0.0</td>\n",
       "      <td>0.0</td>\n",
       "      <td>0-49</td>\n",
       "      <td>NaN</td>\n",
       "      <td>NaN</td>\n",
       "      <td>NaN</td>\n",
       "      <td>NaN</td>\n",
       "      <td>NaN</td>\n",
       "      <td>NaN</td>\n",
       "      <td>NaN</td>\n",
       "      <td>NaN</td>\n",
       "      <td>NaN</td>\n",
       "      <td>NaN</td>\n",
       "      <td>2004</td>\n",
       "    </tr>\n",
       "    <tr>\n",
       "      <th>78054</th>\n",
       "      <td>SR Tendulkar</td>\n",
       "      <td>16</td>\n",
       "      <td>16</td>\n",
       "      <td>30</td>\n",
       "      <td>1.0</td>\n",
       "      <td>0</td>\n",
       "      <td>17</td>\n",
       "      <td>2</td>\n",
       "      <td>0</td>\n",
       "      <td>94.11</td>\n",
       "      <td>1</td>\n",
       "      <td>v Pakistan</td>\n",
       "      <td>Kolkata</td>\n",
       "      <td>2004-11-13</td>\n",
       "      <td>India</td>\n",
       "      <td>0.0</td>\n",
       "      <td>0.0</td>\n",
       "      <td>0-49</td>\n",
       "      <td>NaN</td>\n",
       "      <td>NaN</td>\n",
       "      <td>NaN</td>\n",
       "      <td>NaN</td>\n",
       "      <td>NaN</td>\n",
       "      <td>NaN</td>\n",
       "      <td>NaN</td>\n",
       "      <td>NaN</td>\n",
       "      <td>NaN</td>\n",
       "      <td>NaN</td>\n",
       "      <td>2004</td>\n",
       "    </tr>\n",
       "    <tr>\n",
       "      <th>79590</th>\n",
       "      <td>SR Tendulkar</td>\n",
       "      <td>74</td>\n",
       "      <td>74</td>\n",
       "      <td>170</td>\n",
       "      <td>1.0</td>\n",
       "      <td>0</td>\n",
       "      <td>100</td>\n",
       "      <td>7</td>\n",
       "      <td>1</td>\n",
       "      <td>74</td>\n",
       "      <td>2</td>\n",
       "      <td>v Sri Lanka</td>\n",
       "      <td>Colombo (RPS)</td>\n",
       "      <td>2004-01-08</td>\n",
       "      <td>India</td>\n",
       "      <td>1.0</td>\n",
       "      <td>0.0</td>\n",
       "      <td>50-99</td>\n",
       "      <td>NaN</td>\n",
       "      <td>NaN</td>\n",
       "      <td>NaN</td>\n",
       "      <td>NaN</td>\n",
       "      <td>NaN</td>\n",
       "      <td>NaN</td>\n",
       "      <td>NaN</td>\n",
       "      <td>NaN</td>\n",
       "      <td>NaN</td>\n",
       "      <td>NaN</td>\n",
       "      <td>2004</td>\n",
       "    </tr>\n",
       "    <tr>\n",
       "      <th>79681</th>\n",
       "      <td>SR Tendulkar</td>\n",
       "      <td>18</td>\n",
       "      <td>18</td>\n",
       "      <td>30</td>\n",
       "      <td>1.0</td>\n",
       "      <td>0</td>\n",
       "      <td>21</td>\n",
       "      <td>3</td>\n",
       "      <td>0</td>\n",
       "      <td>85.71</td>\n",
       "      <td>1</td>\n",
       "      <td>v Sri Lanka</td>\n",
       "      <td>Colombo (RPS)</td>\n",
       "      <td>2004-07-27</td>\n",
       "      <td>India</td>\n",
       "      <td>0.0</td>\n",
       "      <td>0.0</td>\n",
       "      <td>0-49</td>\n",
       "      <td>NaN</td>\n",
       "      <td>NaN</td>\n",
       "      <td>NaN</td>\n",
       "      <td>NaN</td>\n",
       "      <td>NaN</td>\n",
       "      <td>NaN</td>\n",
       "      <td>NaN</td>\n",
       "      <td>NaN</td>\n",
       "      <td>NaN</td>\n",
       "      <td>NaN</td>\n",
       "      <td>2004</td>\n",
       "    </tr>\n",
       "  </tbody>\n",
       "</table>\n",
       "</div>"
      ],
      "text/plain": [
       "      Innings Player Innings Runs Scored  Innings Runs Scored Num Innings Minutes Batted  Innings Batted Flag  Innings Not Out Flag  Innings Balls Faced Innings Boundary Fours Innings Boundary Sixes Innings Batting Strike Rate Innings Number    Opposition         Ground Innings Date Country  50's  100's Innings Runs Scored Buckets Innings Overs Bowled  Innings Bowled Flag Innings Maidens Bowled Innings Runs Conceded Innings Wickets Taken  4 Wickets  5 Wickets  10 Wickets Innings Wickets Taken Buckets Innings Economy Rate  Year\n",
       "77614   SR Tendulkar                  47                       47                     60                  1.0                     0                   42                      9                      0                       111.9              1  v Bangladesh          Dhaka   2004-12-27   India   0.0    0.0                        0-49                  NaN                  NaN                    NaN                   NaN                   NaN        NaN        NaN         NaN                           NaN                  NaN  2004\n",
       "77747   SR Tendulkar                  19                       19                     46                  1.0                     0                   32                      3                      0                       59.37              1  v Bangladesh     Chattogram   2004-12-23   India   0.0    0.0                        0-49                  NaN                  NaN                    NaN                   NaN                   NaN        NaN        NaN         NaN                           NaN                  NaN  2004\n",
       "78054   SR Tendulkar                  16                       16                     30                  1.0                     0                   17                      2                      0                       94.11              1    v Pakistan        Kolkata   2004-11-13   India   0.0    0.0                        0-49                  NaN                  NaN                    NaN                   NaN                   NaN        NaN        NaN         NaN                           NaN                  NaN  2004\n",
       "79590   SR Tendulkar                  74                       74                    170                  1.0                     0                  100                      7                      1                          74              2   v Sri Lanka  Colombo (RPS)   2004-01-08   India   1.0    0.0                       50-99                  NaN                  NaN                    NaN                   NaN                   NaN        NaN        NaN         NaN                           NaN                  NaN  2004\n",
       "79681   SR Tendulkar                  18                       18                     30                  1.0                     0                   21                      3                      0                       85.71              1   v Sri Lanka  Colombo (RPS)   2004-07-27   India   0.0    0.0                        0-49                  NaN                  NaN                    NaN                   NaN                   NaN        NaN        NaN         NaN                           NaN                  NaN  2004"
      ]
     },
     "execution_count": 24,
     "metadata": {},
     "output_type": "execute_result"
    }
   ],
   "source": [
    "sachin_data.head()"
   ]
  },
  {
   "cell_type": "code",
   "execution_count": 25,
   "id": "621126e9",
   "metadata": {},
   "outputs": [
    {
     "data": {
      "text/html": [
       "<div>\n",
       "<style scoped>\n",
       "    .dataframe tbody tr th:only-of-type {\n",
       "        vertical-align: middle;\n",
       "    }\n",
       "\n",
       "    .dataframe tbody tr th {\n",
       "        vertical-align: top;\n",
       "    }\n",
       "\n",
       "    .dataframe thead th {\n",
       "        text-align: right;\n",
       "    }\n",
       "</style>\n",
       "<table border=\"1\" class=\"dataframe\">\n",
       "  <thead>\n",
       "    <tr style=\"text-align: right;\">\n",
       "      <th></th>\n",
       "      <th>Innings Player</th>\n",
       "      <th>Innings Runs Scored</th>\n",
       "      <th>Innings Runs Scored Num</th>\n",
       "      <th>Innings Minutes Batted</th>\n",
       "      <th>Innings Batted Flag</th>\n",
       "      <th>Innings Not Out Flag</th>\n",
       "      <th>Innings Balls Faced</th>\n",
       "      <th>Innings Boundary Fours</th>\n",
       "      <th>Innings Boundary Sixes</th>\n",
       "      <th>Innings Batting Strike Rate</th>\n",
       "      <th>Innings Number</th>\n",
       "      <th>Opposition</th>\n",
       "      <th>Ground</th>\n",
       "      <th>Innings Date</th>\n",
       "      <th>Country</th>\n",
       "      <th>50's</th>\n",
       "      <th>100's</th>\n",
       "      <th>Innings Runs Scored Buckets</th>\n",
       "      <th>Innings Overs Bowled</th>\n",
       "      <th>Innings Bowled Flag</th>\n",
       "      <th>Innings Maidens Bowled</th>\n",
       "      <th>Innings Runs Conceded</th>\n",
       "      <th>Innings Wickets Taken</th>\n",
       "      <th>4 Wickets</th>\n",
       "      <th>5 Wickets</th>\n",
       "      <th>10 Wickets</th>\n",
       "      <th>Innings Wickets Taken Buckets</th>\n",
       "      <th>Innings Economy Rate</th>\n",
       "      <th>Year</th>\n",
       "    </tr>\n",
       "  </thead>\n",
       "  <tbody>\n",
       "    <tr>\n",
       "      <th>11</th>\n",
       "      <td>V Kohli</td>\n",
       "      <td>120</td>\n",
       "      <td>120</td>\n",
       "      <td>179</td>\n",
       "      <td>1.0</td>\n",
       "      <td>0</td>\n",
       "      <td>125</td>\n",
       "      <td>14</td>\n",
       "      <td>1</td>\n",
       "      <td>96</td>\n",
       "      <td>1</td>\n",
       "      <td>v West Indies</td>\n",
       "      <td>Port of Spain</td>\n",
       "      <td>2019-11-08</td>\n",
       "      <td>India</td>\n",
       "      <td>0.0</td>\n",
       "      <td>1.0</td>\n",
       "      <td>100-149</td>\n",
       "      <td>NaN</td>\n",
       "      <td>NaN</td>\n",
       "      <td>NaN</td>\n",
       "      <td>NaN</td>\n",
       "      <td>NaN</td>\n",
       "      <td>NaN</td>\n",
       "      <td>NaN</td>\n",
       "      <td>NaN</td>\n",
       "      <td>NaN</td>\n",
       "      <td>NaN</td>\n",
       "      <td>2019</td>\n",
       "    </tr>\n",
       "    <tr>\n",
       "      <th>327</th>\n",
       "      <td>V Kohli</td>\n",
       "      <td>1</td>\n",
       "      <td>1</td>\n",
       "      <td>8</td>\n",
       "      <td>1.0</td>\n",
       "      <td>0</td>\n",
       "      <td>6</td>\n",
       "      <td>0</td>\n",
       "      <td>0</td>\n",
       "      <td>16.66</td>\n",
       "      <td>2</td>\n",
       "      <td>v New Zealand</td>\n",
       "      <td>Manchester</td>\n",
       "      <td>2019-09-07</td>\n",
       "      <td>India</td>\n",
       "      <td>0.0</td>\n",
       "      <td>0.0</td>\n",
       "      <td>0-49</td>\n",
       "      <td>NaN</td>\n",
       "      <td>NaN</td>\n",
       "      <td>NaN</td>\n",
       "      <td>NaN</td>\n",
       "      <td>NaN</td>\n",
       "      <td>NaN</td>\n",
       "      <td>NaN</td>\n",
       "      <td>NaN</td>\n",
       "      <td>NaN</td>\n",
       "      <td>NaN</td>\n",
       "      <td>2019</td>\n",
       "    </tr>\n",
       "    <tr>\n",
       "      <th>420</th>\n",
       "      <td>V Kohli</td>\n",
       "      <td>34*</td>\n",
       "      <td>34</td>\n",
       "      <td>61</td>\n",
       "      <td>1.0</td>\n",
       "      <td>1</td>\n",
       "      <td>41</td>\n",
       "      <td>3</td>\n",
       "      <td>0</td>\n",
       "      <td>82.92</td>\n",
       "      <td>2</td>\n",
       "      <td>v Sri Lanka</td>\n",
       "      <td>Leeds</td>\n",
       "      <td>2019-06-07</td>\n",
       "      <td>India</td>\n",
       "      <td>0.0</td>\n",
       "      <td>0.0</td>\n",
       "      <td>0-49</td>\n",
       "      <td>NaN</td>\n",
       "      <td>NaN</td>\n",
       "      <td>NaN</td>\n",
       "      <td>NaN</td>\n",
       "      <td>NaN</td>\n",
       "      <td>NaN</td>\n",
       "      <td>NaN</td>\n",
       "      <td>NaN</td>\n",
       "      <td>NaN</td>\n",
       "      <td>NaN</td>\n",
       "      <td>2019</td>\n",
       "    </tr>\n",
       "    <tr>\n",
       "      <th>664</th>\n",
       "      <td>V Kohli</td>\n",
       "      <td>26</td>\n",
       "      <td>26</td>\n",
       "      <td>45</td>\n",
       "      <td>1.0</td>\n",
       "      <td>0</td>\n",
       "      <td>27</td>\n",
       "      <td>3</td>\n",
       "      <td>0</td>\n",
       "      <td>96.29</td>\n",
       "      <td>1</td>\n",
       "      <td>v Bangladesh</td>\n",
       "      <td>Birmingham</td>\n",
       "      <td>2019-02-07</td>\n",
       "      <td>India</td>\n",
       "      <td>0.0</td>\n",
       "      <td>0.0</td>\n",
       "      <td>0-49</td>\n",
       "      <td>NaN</td>\n",
       "      <td>NaN</td>\n",
       "      <td>NaN</td>\n",
       "      <td>NaN</td>\n",
       "      <td>NaN</td>\n",
       "      <td>NaN</td>\n",
       "      <td>NaN</td>\n",
       "      <td>NaN</td>\n",
       "      <td>NaN</td>\n",
       "      <td>NaN</td>\n",
       "      <td>2019</td>\n",
       "    </tr>\n",
       "    <tr>\n",
       "      <th>804</th>\n",
       "      <td>V Kohli</td>\n",
       "      <td>66</td>\n",
       "      <td>66</td>\n",
       "      <td>103</td>\n",
       "      <td>1.0</td>\n",
       "      <td>0</td>\n",
       "      <td>76</td>\n",
       "      <td>7</td>\n",
       "      <td>0</td>\n",
       "      <td>86.84</td>\n",
       "      <td>2</td>\n",
       "      <td>v England</td>\n",
       "      <td>Birmingham</td>\n",
       "      <td>2019-06-30</td>\n",
       "      <td>India</td>\n",
       "      <td>1.0</td>\n",
       "      <td>0.0</td>\n",
       "      <td>50-99</td>\n",
       "      <td>NaN</td>\n",
       "      <td>NaN</td>\n",
       "      <td>NaN</td>\n",
       "      <td>NaN</td>\n",
       "      <td>NaN</td>\n",
       "      <td>NaN</td>\n",
       "      <td>NaN</td>\n",
       "      <td>NaN</td>\n",
       "      <td>NaN</td>\n",
       "      <td>NaN</td>\n",
       "      <td>2019</td>\n",
       "    </tr>\n",
       "  </tbody>\n",
       "</table>\n",
       "</div>"
      ],
      "text/plain": [
       "    Innings Player Innings Runs Scored  Innings Runs Scored Num Innings Minutes Batted  Innings Batted Flag  Innings Not Out Flag  Innings Balls Faced Innings Boundary Fours Innings Boundary Sixes Innings Batting Strike Rate Innings Number     Opposition         Ground Innings Date Country  50's  100's Innings Runs Scored Buckets Innings Overs Bowled  Innings Bowled Flag Innings Maidens Bowled Innings Runs Conceded Innings Wickets Taken  4 Wickets  5 Wickets  10 Wickets Innings Wickets Taken Buckets Innings Economy Rate  Year\n",
       "11         V Kohli                 120                      120                    179                  1.0                     0                  125                     14                      1                          96              1  v West Indies  Port of Spain   2019-11-08   India   0.0    1.0                     100-149                  NaN                  NaN                    NaN                   NaN                   NaN        NaN        NaN         NaN                           NaN                  NaN  2019\n",
       "327        V Kohli                   1                        1                      8                  1.0                     0                    6                      0                      0                       16.66              2  v New Zealand     Manchester   2019-09-07   India   0.0    0.0                        0-49                  NaN                  NaN                    NaN                   NaN                   NaN        NaN        NaN         NaN                           NaN                  NaN  2019\n",
       "420        V Kohli                 34*                       34                     61                  1.0                     1                   41                      3                      0                       82.92              2    v Sri Lanka          Leeds   2019-06-07   India   0.0    0.0                        0-49                  NaN                  NaN                    NaN                   NaN                   NaN        NaN        NaN         NaN                           NaN                  NaN  2019\n",
       "664        V Kohli                  26                       26                     45                  1.0                     0                   27                      3                      0                       96.29              1   v Bangladesh     Birmingham   2019-02-07   India   0.0    0.0                        0-49                  NaN                  NaN                    NaN                   NaN                   NaN        NaN        NaN         NaN                           NaN                  NaN  2019\n",
       "804        V Kohli                  66                       66                    103                  1.0                     0                   76                      7                      0                       86.84              2      v England     Birmingham   2019-06-30   India   1.0    0.0                       50-99                  NaN                  NaN                    NaN                   NaN                   NaN        NaN        NaN         NaN                           NaN                  NaN  2019"
      ]
     },
     "execution_count": 25,
     "metadata": {},
     "output_type": "execute_result"
    }
   ],
   "source": [
    "virat_data.head()"
   ]
  },
  {
   "cell_type": "code",
   "execution_count": 26,
   "id": "f2b95acc",
   "metadata": {},
   "outputs": [
    {
     "data": {
      "text/plain": [
       "11818"
      ]
     },
     "execution_count": 26,
     "metadata": {},
     "output_type": "execute_result"
    }
   ],
   "source": [
    "# calculating total runs by sachin during 1994-2004\n",
    "sachin_runs = sum(sachin_data[\"Innings Runs Scored Num\"])\n",
    "sachin_runs"
   ]
  },
  {
   "cell_type": "code",
   "execution_count": 27,
   "id": "56fc3767",
   "metadata": {},
   "outputs": [
    {
     "data": {
      "text/plain": [
       "11247"
      ]
     },
     "execution_count": 27,
     "metadata": {},
     "output_type": "execute_result"
    }
   ],
   "source": [
    "# calculating total runs by virat during 2009-2019\n",
    "virat_runs = sum(virat_data[\"Innings Runs Scored Num\"])\n",
    "virat_runs"
   ]
  },
  {
   "cell_type": "code",
   "execution_count": 28,
   "id": "78b6e2a2",
   "metadata": {},
   "outputs": [
    {
     "data": {
      "text/plain": [
       "43.608856088560884"
      ]
     },
     "execution_count": 28,
     "metadata": {},
     "output_type": "execute_result"
    }
   ],
   "source": [
    "# RPI - Sachin\n",
    "sachin_rpi = sachin_runs / len(sachin_data)\n",
    "sachin_rpi"
   ]
  },
  {
   "cell_type": "code",
   "execution_count": 29,
   "id": "aeb7c875",
   "metadata": {},
   "outputs": [
    {
     "data": {
      "text/plain": [
       "50.20982142857143"
      ]
     },
     "execution_count": 29,
     "metadata": {},
     "output_type": "execute_result"
    }
   ],
   "source": [
    "# RPI - Virat\n",
    "virat_rpi = virat_runs / len(virat_data)\n",
    "virat_rpi"
   ]
  },
  {
   "cell_type": "code",
   "execution_count": 30,
   "id": "f424b7c7",
   "metadata": {},
   "outputs": [
    {
     "data": {
      "text/plain": [
       "88.21377920429947"
      ]
     },
     "execution_count": 30,
     "metadata": {},
     "output_type": "execute_result"
    }
   ],
   "source": [
    "# StrikeRate - Sachin\n",
    "sachin_sr = 100*(sachin_runs / sum(sachin_data[\"Innings Balls Faced\"]))\n",
    "sachin_sr"
   ]
  },
  {
   "cell_type": "code",
   "execution_count": 31,
   "id": "9f15de40",
   "metadata": {},
   "outputs": [
    {
     "data": {
      "text/plain": [
       "93.56126778138258"
      ]
     },
     "execution_count": 31,
     "metadata": {},
     "output_type": "execute_result"
    }
   ],
   "source": [
    "# StrikeRate - Virat\n",
    "virat_sr = 100*(virat_runs / sum(virat_data[\"Innings Balls Faced\"]))\n",
    "virat_sr"
   ]
  },
  {
   "cell_type": "code",
   "execution_count": 32,
   "id": "6b4cad1e",
   "metadata": {},
   "outputs": [
    {
     "data": {
      "text/plain": [
       "37"
      ]
     },
     "execution_count": 32,
     "metadata": {},
     "output_type": "execute_result"
    }
   ],
   "source": [
    "# 100's - Sachin\n",
    "sachin_100 = int(sum(sachin_data[\"100's\"]))\n",
    "sachin_100"
   ]
  },
  {
   "cell_type": "code",
   "execution_count": 33,
   "id": "a940196b",
   "metadata": {},
   "outputs": [
    {
     "data": {
      "text/plain": [
       "42"
      ]
     },
     "execution_count": 33,
     "metadata": {},
     "output_type": "execute_result"
    }
   ],
   "source": [
    "# 100's - Virat\n",
    "virat_100 = int(sum(virat_data[\"100's\"]))\n",
    "virat_100"
   ]
  },
  {
   "cell_type": "code",
   "execution_count": 34,
   "id": "d1daa543",
   "metadata": {},
   "outputs": [
    {
     "data": {
      "text/plain": [
       "57"
      ]
     },
     "execution_count": 34,
     "metadata": {},
     "output_type": "execute_result"
    }
   ],
   "source": [
    "# 50's - Sachin\n",
    "sachin_50 = int(sum(sachin_data[\"50's\"]))\n",
    "sachin_50"
   ]
  },
  {
   "cell_type": "code",
   "execution_count": 35,
   "id": "070ec329",
   "metadata": {},
   "outputs": [
    {
     "data": {
      "text/plain": [
       "53"
      ]
     },
     "execution_count": 35,
     "metadata": {},
     "output_type": "execute_result"
    }
   ],
   "source": [
    "# 50's - Virat\n",
    "virat_50 = int(sum(virat_data[\"50's\"]))\n",
    "virat_50"
   ]
  },
  {
   "cell_type": "code",
   "execution_count": 36,
   "id": "e5157e88",
   "metadata": {},
   "outputs": [
    {
     "data": {
      "text/plain": [
       "0.16951875493078963"
      ]
     },
     "execution_count": 36,
     "metadata": {},
     "output_type": "execute_result"
    }
   ],
   "source": [
    "# Team Contribution - Sachin\n",
    "sachin_tc = (sachin_runs / sum(sachin_era_df[sachin_era_df[\"Country\"]==\"India\"][\"Innings Runs Scored Num\"]))\n",
    "sachin_tc"
   ]
  },
  {
   "cell_type": "code",
   "execution_count": 37,
   "id": "2b9ca6b6",
   "metadata": {},
   "outputs": [
    {
     "data": {
      "text/plain": [
       "0.17610033350556625"
      ]
     },
     "execution_count": 37,
     "metadata": {},
     "output_type": "execute_result"
    }
   ],
   "source": [
    "# Team Contribution - Virat\n",
    "virat_tc = (virat_runs / sum(virat_era_df[virat_era_df[\"Country\"]==\"India\"][\"Innings Runs Scored Num\"]))\n",
    "virat_tc"
   ]
  },
  {
   "cell_type": "markdown",
   "id": "4935124e",
   "metadata": {},
   "source": [
    "### Visualizations :"
   ]
  },
  {
   "cell_type": "code",
   "execution_count": 38,
   "id": "39005ee9",
   "metadata": {},
   "outputs": [
    {
     "data": {
      "text/plain": [
       "Innings Player\n",
       "SR Tendulkar      11818\n",
       "SC Ganguly         9911\n",
       "ST Jayasuriya      9297\n",
       "Inzamam-ul-Haq     8561\n",
       "R Dravid           7751\n",
       "RT Ponting         7422\n",
       "Saeed Anwar        7320\n",
       "JH Kallis          7267\n",
       "MS Atapattu        7253\n",
       "MG Bevan           6912\n",
       "Name: Innings Runs Scored Num, dtype: int32"
      ]
     },
     "execution_count": 38,
     "metadata": {},
     "output_type": "execute_result"
    }
   ],
   "source": [
    "# top ten run scorers of sachin's era \n",
    "sachin_era_top10 = sachin_era_df.groupby([\"Innings Player\"])[\"Innings Runs Scored Num\"].sum().sort_values(ascending = False).head(10)\n",
    "sachin_era_top10"
   ]
  },
  {
   "cell_type": "code",
   "execution_count": 39,
   "id": "fb88be0c",
   "metadata": {},
   "outputs": [
    {
     "data": {
      "image/png": "[encoded data removed]",
      "text/plain": [
       "<Figure size 432x288 with 1 Axes>"
      ]
     },
     "metadata": {
      "needs_background": "light"
     },
     "output_type": "display_data"
    }
   ],
   "source": [
    "sachin_era_top10.plot(kind=\"bar\")\n",
    "plt.show()"
   ]
  },
  {
   "cell_type": "code",
   "execution_count": 40,
   "id": "c990e34f",
   "metadata": {},
   "outputs": [
    {
     "data": {
      "text/plain": [
       "Innings Player\n",
       "V Kohli           11247\n",
       "RG Sharma          8083\n",
       "HM Amla            7745\n",
       "TM Dilshan         7296\n",
       "KC Sangakkara      7275\n",
       "AB de Villiers     7247\n",
       "LRPL Taylor        7059\n",
       "MS Dhoni           6838\n",
       "EJG Morgan         6748\n",
       "MJ Guptill         6626\n",
       "Name: Innings Runs Scored Num, dtype: int32"
      ]
     },
     "execution_count": 40,
     "metadata": {},
     "output_type": "execute_result"
    }
   ],
   "source": [
    "#  top 10 run scorers of virat's era\n",
    "virat_era_top10 = virat_era_df.groupby([\"Innings Player\"])[\"Innings Runs Scored Num\"].sum().sort_values(ascending=False).head(10)\n",
    "virat_era_top10"
   ]
  },
  {
   "cell_type": "code",
   "execution_count": 41,
   "id": "883bb690",
   "metadata": {},
   "outputs": [
    {
     "data": {
      "image/png": "[encoded data removed]",
      "text/plain": [
       "<Figure size 432x288 with 1 Axes>"
      ]
     },
     "metadata": {
      "needs_background": "light"
     },
     "output_type": "display_data"
    }
   ],
   "source": [
    "virat_era_top10.plot(kind=\"bar\")\n",
    "plt.show()"
   ]
  },
  {
   "cell_type": "code",
   "execution_count": 42,
   "id": "359bf131",
   "metadata": {},
   "outputs": [
    {
     "name": "stdout",
     "output_type": "stream",
     "text": [
      "Year\n",
      "1994    1089\n",
      "1995     444\n",
      "1996    1611\n",
      "1997    1011\n",
      "1998    1894\n",
      "1999     843\n",
      "2000    1328\n",
      "2001     904\n",
      "2002     741\n",
      "2003    1141\n",
      "2004     812\n",
      "Name: Innings Runs Scored Num, dtype: int32\n"
     ]
    },
    {
     "data": {
      "image/png": "[encoded data removed]",
      "text/plain": [
       "<Figure size 432x288 with 1 Axes>"
      ]
     },
     "metadata": {
      "needs_background": "light"
     },
     "output_type": "display_data"
    }
   ],
   "source": [
    "# yearly runs scored by Sachin\n",
    "sachin_yearly = sachin_data.groupby([\"Year\"])[\"Innings Runs Scored Num\"].sum()\n",
    "print(sachin_yearly)\n",
    "sachin_yearly.plot(kind=\"line\")\n",
    "plt.show()"
   ]
  },
  {
   "cell_type": "code",
   "execution_count": 43,
   "id": "25c9d2d3",
   "metadata": {},
   "outputs": [
    {
     "name": "stdout",
     "output_type": "stream",
     "text": [
      "Year\n",
      "2009     325\n",
      "2010     995\n",
      "2011    1381\n",
      "2012    1026\n",
      "2013    1268\n",
      "2014    1054\n",
      "2015     623\n",
      "2016     739\n",
      "2017    1460\n",
      "2018    1202\n",
      "2019    1174\n",
      "Name: Innings Runs Scored Num, dtype: int32\n"
     ]
    },
    {
     "data": {
      "image/png": "[encoded data removed]",
      "text/plain": [
       "<Figure size 432x288 with 1 Axes>"
      ]
     },
     "metadata": {
      "needs_background": "light"
     },
     "output_type": "display_data"
    }
   ],
   "source": [
    "# yearly runs scored by Virat\n",
    "virat_yearly = virat_data.groupby([\"Year\"])[\"Innings Runs Scored Num\"].sum()\n",
    "print(virat_yearly)\n",
    "virat_yearly.plot(kind=\"line\")\n",
    "plt.show()"
   ]
  },
  {
   "cell_type": "markdown",
   "id": "c63167ea",
   "metadata": {},
   "source": [
    "### Normalization"
   ]
  },
  {
   "cell_type": "markdown",
   "id": "30f2ab74",
   "metadata": {},
   "source": [
    "- We can't compare them on the basis of these absolute values as they belong to different groups\n",
    "- We have to calcuate some relative data for comparision\n",
    "- We will find the data relative to the players of the same era"
   ]
  },
  {
   "cell_type": "markdown",
   "id": "13ed5a6e",
   "metadata": {},
   "source": [
    "##### RPI"
   ]
  },
  {
   "cell_type": "code",
   "execution_count": 44,
   "id": "316fceef",
   "metadata": {},
   "outputs": [],
   "source": [
    "# Sachin"
   ]
  },
  {
   "cell_type": "code",
   "execution_count": 45,
   "id": "06710f42",
   "metadata": {},
   "outputs": [
    {
     "data": {
      "text/plain": [
       "43.608856088560884"
      ]
     },
     "execution_count": 45,
     "metadata": {},
     "output_type": "execute_result"
    }
   ],
   "source": [
    "sachin_rpi"
   ]
  },
  {
   "cell_type": "code",
   "execution_count": 46,
   "id": "b0d537e9",
   "metadata": {},
   "outputs": [],
   "source": [
    "non_sachin_df = sachin_era_df[sachin_era_df[\"Innings Player\"] != \"SR Tendulkar\"]"
   ]
  },
  {
   "cell_type": "code",
   "execution_count": 47,
   "id": "8204ad0b",
   "metadata": {},
   "outputs": [
    {
     "data": {
      "text/plain": [
       "22.43512946754194"
      ]
     },
     "execution_count": 47,
     "metadata": {},
     "output_type": "execute_result"
    }
   ],
   "source": [
    "non_sachin_rpi = sum(non_sachin_df[\"Innings Runs Scored Num\"]) / len(non_sachin_df)\n",
    "non_sachin_rpi"
   ]
  },
  {
   "cell_type": "code",
   "execution_count": 48,
   "id": "0b79f05b",
   "metadata": {},
   "outputs": [
    {
     "data": {
      "text/plain": [
       "1.9437755485945407"
      ]
     },
     "execution_count": 48,
     "metadata": {},
     "output_type": "execute_result"
    }
   ],
   "source": [
    "# normalized RPI\n",
    "sachin_nrpi = sachin_rpi / non_sachin_rpi\n",
    "sachin_nrpi"
   ]
  },
  {
   "cell_type": "code",
   "execution_count": 49,
   "id": "08bcfde2",
   "metadata": {},
   "outputs": [],
   "source": [
    "# Virat"
   ]
  },
  {
   "cell_type": "code",
   "execution_count": 50,
   "id": "cb910a9e",
   "metadata": {},
   "outputs": [
    {
     "data": {
      "text/plain": [
       "50.20982142857143"
      ]
     },
     "execution_count": 50,
     "metadata": {},
     "output_type": "execute_result"
    }
   ],
   "source": [
    "virat_rpi"
   ]
  },
  {
   "cell_type": "code",
   "execution_count": 51,
   "id": "4dca7f68",
   "metadata": {},
   "outputs": [],
   "source": [
    "non_virat_df = virat_era_df[virat_era_df[\"Innings Player\"] != \"V Kohli\"]"
   ]
  },
  {
   "cell_type": "code",
   "execution_count": 52,
   "id": "0037f8e9",
   "metadata": {},
   "outputs": [
    {
     "data": {
      "text/plain": [
       "24.737756786500366"
      ]
     },
     "execution_count": 52,
     "metadata": {},
     "output_type": "execute_result"
    }
   ],
   "source": [
    "non_virat_rpi = sum(non_virat_df[\"Innings Runs Scored Num\"]) / len(non_virat_df)\n",
    "non_virat_rpi"
   ]
  },
  {
   "cell_type": "code",
   "execution_count": 53,
   "id": "1cca00b3",
   "metadata": {},
   "outputs": [
    {
     "data": {
      "text/plain": [
       "2.029683688052565"
      ]
     },
     "execution_count": 53,
     "metadata": {},
     "output_type": "execute_result"
    }
   ],
   "source": [
    "# normalized RPI\n",
    "virat_nrpi = virat_rpi / non_virat_rpi\n",
    "virat_nrpi"
   ]
  },
  {
   "cell_type": "markdown",
   "id": "be6fcb0e",
   "metadata": {},
   "source": [
    "##### StrikeRate"
   ]
  },
  {
   "cell_type": "code",
   "execution_count": 54,
   "id": "68a28278",
   "metadata": {},
   "outputs": [],
   "source": [
    "# Sachin"
   ]
  },
  {
   "cell_type": "code",
   "execution_count": 55,
   "id": "c012a785",
   "metadata": {},
   "outputs": [
    {
     "data": {
      "text/plain": [
       "88.21377920429947"
      ]
     },
     "execution_count": 55,
     "metadata": {},
     "output_type": "execute_result"
    }
   ],
   "source": [
    "sachin_sr"
   ]
  },
  {
   "cell_type": "code",
   "execution_count": 56,
   "id": "3b64c5be",
   "metadata": {},
   "outputs": [
    {
     "data": {
      "text/plain": [
       "72.33808936558636"
      ]
     },
     "execution_count": 56,
     "metadata": {},
     "output_type": "execute_result"
    }
   ],
   "source": [
    "sachin_peer_sr = 100*(sum(non_sachin_df[\"Innings Runs Scored Num\"])/sum(non_sachin_df[\"Innings Balls Faced\"]))\n",
    "sachin_peer_sr"
   ]
  },
  {
   "cell_type": "code",
   "execution_count": 57,
   "id": "2b527353",
   "metadata": {},
   "outputs": [
    {
     "data": {
      "text/plain": [
       "1.2194651528391862"
      ]
     },
     "execution_count": 57,
     "metadata": {},
     "output_type": "execute_result"
    }
   ],
   "source": [
    "# normalized Strike Rate\n",
    "sachin_nsr = sachin_sr / sachin_peer_sr\n",
    "sachin_nsr"
   ]
  },
  {
   "cell_type": "code",
   "execution_count": 58,
   "id": "dccc02da",
   "metadata": {},
   "outputs": [],
   "source": [
    "# Virat"
   ]
  },
  {
   "cell_type": "code",
   "execution_count": 59,
   "id": "7e662b37",
   "metadata": {},
   "outputs": [
    {
     "data": {
      "text/plain": [
       "93.56126778138258"
      ]
     },
     "execution_count": 59,
     "metadata": {},
     "output_type": "execute_result"
    }
   ],
   "source": [
    "virat_sr"
   ]
  },
  {
   "cell_type": "code",
   "execution_count": 60,
   "id": "8c0d3aa2",
   "metadata": {},
   "outputs": [
    {
     "data": {
      "text/plain": [
       "83.42743413330611"
      ]
     },
     "execution_count": 60,
     "metadata": {},
     "output_type": "execute_result"
    }
   ],
   "source": [
    "virat_peer_sr = 100*(sum(non_virat_df[\"Innings Runs Scored Num\"])/sum(non_virat_df[\"Innings Balls Faced\"]))\n",
    "virat_peer_sr"
   ]
  },
  {
   "cell_type": "code",
   "execution_count": 61,
   "id": "9defe4c4",
   "metadata": {},
   "outputs": [
    {
     "data": {
      "text/plain": [
       "1.1214688399967323"
      ]
     },
     "execution_count": 61,
     "metadata": {},
     "output_type": "execute_result"
    }
   ],
   "source": [
    "# normalized Strike Rate\n",
    "virat_nsr = virat_sr / virat_peer_sr\n",
    "virat_nsr"
   ]
  },
  {
   "cell_type": "markdown",
   "id": "1f14d242",
   "metadata": {},
   "source": [
    "##### 100's : Number of matches to score a 100"
   ]
  },
  {
   "cell_type": "code",
   "execution_count": 62,
   "id": "75aaaedb",
   "metadata": {},
   "outputs": [],
   "source": [
    "# Sachin"
   ]
  },
  {
   "cell_type": "code",
   "execution_count": 63,
   "id": "4b82fa02",
   "metadata": {},
   "outputs": [
    {
     "data": {
      "text/plain": [
       "7.324324324324325"
      ]
     },
     "execution_count": 63,
     "metadata": {},
     "output_type": "execute_result"
    }
   ],
   "source": [
    "# matches to score a 100 - Sachin\n",
    "sachin_ms100 = len(sachin_data)/sachin_100\n",
    "sachin_ms100"
   ]
  },
  {
   "cell_type": "code",
   "execution_count": 64,
   "id": "2e5a664f",
   "metadata": {},
   "outputs": [
    {
     "data": {
      "text/plain": [
       "47.377969762419006"
      ]
     },
     "execution_count": 64,
     "metadata": {},
     "output_type": "execute_result"
    }
   ],
   "source": [
    "# matches to score a 100 - Sachin's peers\n",
    "sachin_peer_ms100 = len(non_sachin_df)/int(sum(non_sachin_df[\"100's\"]))\n",
    "sachin_peer_ms100"
   ]
  },
  {
   "cell_type": "code",
   "execution_count": 65,
   "id": "17abe392",
   "metadata": {},
   "outputs": [
    {
     "data": {
      "text/plain": [
       "0.15459346107595562"
      ]
     },
     "execution_count": 65,
     "metadata": {},
     "output_type": "execute_result"
    }
   ],
   "source": [
    "# normalized matches to score a 100\n",
    "sachin_nms100 = sachin_ms100 / sachin_peer_ms100\n",
    "sachin_nms100"
   ]
  },
  {
   "cell_type": "code",
   "execution_count": 66,
   "id": "127e2391",
   "metadata": {},
   "outputs": [],
   "source": [
    "# Virat"
   ]
  },
  {
   "cell_type": "code",
   "execution_count": 67,
   "id": "c7fc6268",
   "metadata": {},
   "outputs": [
    {
     "data": {
      "text/plain": [
       "5.333333333333333"
      ]
     },
     "execution_count": 67,
     "metadata": {},
     "output_type": "execute_result"
    }
   ],
   "source": [
    "# matches to score a 100 - Virat\n",
    "virat_ms100 = len(virat_data)/virat_100\n",
    "virat_ms100"
   ]
  },
  {
   "cell_type": "code",
   "execution_count": 68,
   "id": "e2cc9788",
   "metadata": {},
   "outputs": [
    {
     "data": {
      "text/plain": [
       "29.311827956989248"
      ]
     },
     "execution_count": 68,
     "metadata": {},
     "output_type": "execute_result"
    }
   ],
   "source": [
    "# matches to score a 100 - Virat's peers\n",
    "virat_peer_ms100 = len(non_virat_df)/sum(non_virat_df[\"100's\"])\n",
    "virat_peer_ms100"
   ]
  },
  {
   "cell_type": "code",
   "execution_count": 69,
   "id": "d0c7dffb",
   "metadata": {},
   "outputs": [
    {
     "data": {
      "text/plain": [
       "0.18195157740278795"
      ]
     },
     "execution_count": 69,
     "metadata": {},
     "output_type": "execute_result"
    }
   ],
   "source": [
    "# normalized matches to score a 100\n",
    "virat_nms100 = virat_ms100 / virat_peer_ms100\n",
    "virat_nms100"
   ]
  },
  {
   "cell_type": "markdown",
   "id": "84ad1ebf",
   "metadata": {},
   "source": [
    "##### 50's : Number of matches to score a 50"
   ]
  },
  {
   "cell_type": "code",
   "execution_count": 70,
   "id": "a027abb9",
   "metadata": {},
   "outputs": [],
   "source": [
    "# Sachin"
   ]
  },
  {
   "cell_type": "code",
   "execution_count": 71,
   "id": "279561e0",
   "metadata": {},
   "outputs": [
    {
     "data": {
      "text/plain": [
       "4.754385964912281"
      ]
     },
     "execution_count": 71,
     "metadata": {},
     "output_type": "execute_result"
    }
   ],
   "source": [
    "# matches to score a 50 - Sachin\n",
    "sachin_ms50 = len(sachin_data)/sachin_50\n",
    "sachin_ms50"
   ]
  },
  {
   "cell_type": "code",
   "execution_count": 72,
   "id": "b1074740",
   "metadata": {},
   "outputs": [
    {
     "data": {
      "text/plain": [
       "8.33751425313569"
      ]
     },
     "execution_count": 72,
     "metadata": {},
     "output_type": "execute_result"
    }
   ],
   "source": [
    "# matches to score a 50 - Sachin's peers\n",
    "sachin_peer_ms50 = len(non_sachin_df)/int(sum(non_sachin_df[\"50's\"]))\n",
    "sachin_peer_ms50"
   ]
  },
  {
   "cell_type": "code",
   "execution_count": 73,
   "id": "c836977a",
   "metadata": {},
   "outputs": [
    {
     "data": {
      "text/plain": [
       "0.5702402203539483"
      ]
     },
     "execution_count": 73,
     "metadata": {},
     "output_type": "execute_result"
    }
   ],
   "source": [
    "# normalized matches to score a 50\n",
    "sachin_nms50 = sachin_ms50 / sachin_peer_ms50\n",
    "sachin_nms50"
   ]
  },
  {
   "cell_type": "code",
   "execution_count": 74,
   "id": "e0aaa248",
   "metadata": {},
   "outputs": [],
   "source": [
    "# Virat"
   ]
  },
  {
   "cell_type": "code",
   "execution_count": 75,
   "id": "b468b8b5",
   "metadata": {},
   "outputs": [
    {
     "data": {
      "text/plain": [
       "4.226415094339623"
      ]
     },
     "execution_count": 75,
     "metadata": {},
     "output_type": "execute_result"
    }
   ],
   "source": [
    "# matches to score a 50 - Virat\n",
    "virat_ms50 = len(virat_data)/virat_50\n",
    "virat_ms50"
   ]
  },
  {
   "cell_type": "code",
   "execution_count": 76,
   "id": "7d736e2d",
   "metadata": {},
   "outputs": [
    {
     "data": {
      "text/plain": [
       "7.673469387755102"
      ]
     },
     "execution_count": 76,
     "metadata": {},
     "output_type": "execute_result"
    }
   ],
   "source": [
    "# matches to score a 50 - Virat's peers\n",
    "virat_peer_ms50 = len(non_virat_df)/sum(non_virat_df[\"50's\"])\n",
    "virat_peer_ms50"
   ]
  },
  {
   "cell_type": "code",
   "execution_count": 77,
   "id": "83549245",
   "metadata": {},
   "outputs": [
    {
     "data": {
      "text/plain": [
       "0.5507828181453231"
      ]
     },
     "execution_count": 77,
     "metadata": {},
     "output_type": "execute_result"
    }
   ],
   "source": [
    "# normalized matches to score a 50\n",
    "virat_nms50 = virat_ms50 / virat_peer_ms50\n",
    "virat_nms50"
   ]
  },
  {
   "cell_type": "markdown",
   "id": "b2cc43ba",
   "metadata": {},
   "source": [
    "### Final Analysis ( Normalized )\n",
    "\n",
    "- Based on the below time frames :\n",
    "    - Sachin : 1994-2004\n",
    "    - Virat : 2009-2019"
   ]
  },
  {
   "cell_type": "markdown",
   "id": "74d1bac8",
   "metadata": {},
   "source": [
    "##### Sachin"
   ]
  },
  {
   "cell_type": "code",
   "execution_count": 78,
   "id": "91aac8b7",
   "metadata": {},
   "outputs": [
    {
     "name": "stdout",
     "output_type": "stream",
     "text": [
      "Runs/Innings :  1.9437755485945407\n",
      "Strike Rate :  1.2194651528391862\n",
      "Matches to score a 100 :  0.15459346107595562\n",
      "Matches to score a 50 :  0.5702402203539483\n",
      "Team Contribution :  0.16951875493078963\n"
     ]
    }
   ],
   "source": [
    "print(\"Runs/Innings : \", sachin_nrpi)\n",
    "print(\"Strike Rate : \", sachin_nsr)\n",
    "print(\"Matches to score a 100 : \", sachin_nms100)\n",
    "print(\"Matches to score a 50 : \", sachin_nms50)\n",
    "print(\"Team Contribution : \", sachin_tc)"
   ]
  },
  {
   "cell_type": "code",
   "execution_count": 79,
   "id": "4b8d379f",
   "metadata": {},
   "outputs": [
    {
     "data": {
      "image/png": "[encoded data removed]",
      "text/plain": [
       "<Figure size 432x288 with 1 Axes>"
      ]
     },
     "metadata": {
      "needs_background": "light"
     },
     "output_type": "display_data"
    }
   ],
   "source": [
    "# where do sachin stand among his peers\n",
    "sachin_era_top10.plot(kind=\"bar\")\n",
    "plt.show()"
   ]
  },
  {
   "cell_type": "code",
   "execution_count": 80,
   "id": "044980ea",
   "metadata": {},
   "outputs": [
    {
     "data": {
      "image/png": "[encoded data removed]",
      "text/plain": [
       "<Figure size 432x288 with 1 Axes>"
      ]
     },
     "metadata": {
      "needs_background": "light"
     },
     "output_type": "display_data"
    }
   ],
   "source": [
    "# yearly runs scored by Sachin (consistancy  to score 1000+ runs/year)\n",
    "sachin_yearly = sachin_data.groupby([\"Year\"])[\"Innings Runs Scored Num\"].sum()\n",
    "sachin_yearly.plot(kind=\"line\")\n",
    "plt.show()"
   ]
  },
  {
   "cell_type": "markdown",
   "id": "29563ded",
   "metadata": {},
   "source": [
    "##### Virat"
   ]
  },
  {
   "cell_type": "code",
   "execution_count": 81,
   "id": "49decfac",
   "metadata": {},
   "outputs": [
    {
     "name": "stdout",
     "output_type": "stream",
     "text": [
      "Runs/Innings :  2.029683688052565\n",
      "Strike Rate :  1.1214688399967323\n",
      "Matches to score a 100 :  0.18195157740278795\n",
      "Matches to score a 50 :  0.5507828181453231\n",
      "Team Contribution :  0.17610033350556625\n"
     ]
    }
   ],
   "source": [
    "print(\"Runs/Innings : \", virat_nrpi)\n",
    "print(\"Strike Rate : \", virat_nsr)\n",
    "print(\"Matches to score a 100 : \", virat_nms100)\n",
    "print(\"Matches to score a 50 : \", virat_nms50)\n",
    "print(\"Team Contribution : \", virat_tc)"
   ]
  },
  {
   "cell_type": "code",
   "execution_count": 82,
   "id": "3b7acea2",
   "metadata": {},
   "outputs": [
    {
     "data": {
      "image/png": "[encoded data removed]",
      "text/plain": [
       "<Figure size 432x288 with 1 Axes>"
      ]
     },
     "metadata": {
      "needs_background": "light"
     },
     "output_type": "display_data"
    }
   ],
   "source": [
    "# where do virat stand among his peers\n",
    "virat_era_top10.plot(kind=\"bar\")\n",
    "plt.show()"
   ]
  },
  {
   "cell_type": "code",
   "execution_count": 83,
   "id": "f5fa9ee6",
   "metadata": {},
   "outputs": [
    {
     "data": {
      "image/png": "[encoded data removed]",
      "text/plain": [
       "<Figure size 432x288 with 1 Axes>"
      ]
     },
     "metadata": {
      "needs_background": "light"
     },
     "output_type": "display_data"
    }
   ],
   "source": [
    "# yearly runs scored by Virat (consistancy  to score 1000+ runs/year)\n",
    "virat_yearly = virat_data.groupby([\"Year\"])[\"Innings Runs Scored Num\"].sum()\n",
    "virat_yearly.plot(kind=\"line\")\n",
    "plt.show()"
   ]
  },
  {
   "cell_type": "code",
   "execution_count": 84,
   "id": "02c2d616",
   "metadata": {},
   "outputs": [],
   "source": [
    "sachin = [sachin_nrpi, sachin_nsr, sachin_nms100, sachin_nms50, sachin_tc]\n",
    "virat = [virat_nrpi, virat_nsr, virat_nms100, virat_nms50, virat_tc]"
   ]
  },
  {
   "cell_type": "code",
   "execution_count": 93,
   "id": "5f975f1d",
   "metadata": {},
   "outputs": [
    {
     "data": {
      "image/png": "[encoded data removed]",
      "text/plain": [
       "<Figure size 1152x576 with 1 Axes>"
      ]
     },
     "metadata": {
      "needs_background": "light"
     },
     "output_type": "display_data"
    }
   ],
   "source": [
    "# final plot\n",
    "\n",
    "index = np.arange(5)\n",
    "bar_width = 0.2\n",
    "\n",
    "plt_fig=plt.figure(figsize=(16,8))\n",
    "ax=plt_fig.add_subplot()\n",
    "    \n",
    "sachin_plot = ax.bar(index, sachin, bar_width, label=\"Sachin\")\n",
    "\n",
    "winter = ax.bar(index+bar_width, virat, bar_width, label=\"Virat\", color=\"red\")\n",
    "\n",
    "ax.set_ylabel('Normalized Scale')\n",
    "ax.set_title('SACHIN vs VIRAT')\n",
    "ax.set_xticks(index + bar_width / 2)\n",
    "ax.set_xticklabels([\"Runs/Innings\", \"Strike Rate\", \"Matches to score a 100\", \"Matches to score a 50\", \"Team Contribution\"])\n",
    "ax.legend()\n",
    "plt.show()"
   ]
  },
  {
   "cell_type": "markdown",
   "id": "ad97eb6a",
   "metadata": {},
   "source": [
    "##### Key Points\n",
    "- Virat is having more Runs per Innings.\n",
    "- Sachin is having better Strike Rate.\n",
    "- Sachin takes less matches to score a 100.\n",
    "- Virat takes less matches to score a 50.\n",
    "- Virat is having slightly more contribution in the team.\n",
    "\n",
    "> Out of 5 paramaters : Sachin - 2 and Virat - 3\n",
    "\n",
    "##### Additional Points\n",
    "- Virat is more consistent in scoring 1000+ runs/year ( 7 times 1000+ runs/year and a close call of 995 runs)\n",
    "- Virat stands in a strong position among his peers with a larger run difference."
   ]
  },
  {
   "cell_type": "markdown",
   "id": "ff90d4a1",
   "metadata": {},
   "source": [
    "#### After this analysis the winner is : \n",
    "\n",
    "### Virat Kohli"
   ]
  }
 ],
 "metadata": {
  "kernelspec": {
   "display_name": "Python 3 (ipykernel)",
   "language": "python",
   "name": "python3"
  },
  "language_info": {
   "codemirror_mode": {
    "name": "ipython",
    "version": 3
   },
   "file_extension": ".py",
   "mimetype": "text/x-python",
   "name": "python",
   "nbconvert_exporter": "python",
   "pygments_lexer": "ipython3",
   "version": "3.9.7"
  }
 },
 "nbformat": 4,
 "nbformat_minor": 5
}
